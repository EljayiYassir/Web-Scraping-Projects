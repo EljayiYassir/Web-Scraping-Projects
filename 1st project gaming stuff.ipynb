{
 "cells": [
  {
   "cell_type": "markdown",
   "id": "2c739189-3f9f-4cba-b296-59fa3e45ab7d",
   "metadata": {
    "tags": []
   },
   "source": [
    "\n",
    "***\n",
    "<h1 id=\"heading\"><center><span style=\"background-color:#5642C5; color:white ; display:fill;border-radius:5px; font-family:cursive\"> 1. Web Scriping project : List of highest-grossing mobile games 🗃️📊🔬</span></center><a class=\"anchor-link\" href=\"\">¶</a></h1>\n",
    "<p><center style=\"color:#159364; font-family:cursive;\">💬 The best way to make yourself extremely <code>valuable</code> in a team is to <code>understand</code> everything, but being a <code>master</code> of something.</center></p>\n",
    "\n",
    "***\n"
   ]
  },
  {
   "cell_type": "markdown",
   "id": "9bff4721-80ac-49ba-9f75-cb307a80b3c1",
   "metadata": {
    "tags": []
   },
   "source": [
    "<h3 id=\"heading\"><span style=\"background-color:#cefffb; color:#1b4946; display:fill;border-radius:5px; font-family:cursive\"> 👨‍💻 Description of the author </span></h3>"
   ]
  },
  {
   "cell_type": "markdown",
   "id": "be060b85-d964-44e7-a445-89b4c39fff3f",
   "metadata": {
    "jp-MarkdownHeadingCollapsed": true,
    "tags": []
   },
   "source": [
    "* Font-Family: Georgia, Verdana, Cursive https://blog.hubspot.com/website/web-safe-html-css-fonts\n",
    "* Colors Used: ['crimson', 'orange', #5642C5, #62d6cc, #50b5e7, #e7b550] https://htmlcolorcodes.com/fr/\n",
    "* Emoji Used: [📚, 📌, 😃, 💬, 🎖, 📎, 🏆, 🗣, 🔭, 🌈, 💭, ⏳, 🙌🏻]<br>\n",
    "* Social Media Contact:\n",
    "    *  [WebPage](https://eljayiyassir.github.io/Portfolio/)\n",
    "    *  [Github](https://github.com/EljayiYassir)\n",
    "    *  [LinkedIn](https://www.linkedin.com/in/yassir-eljayi/)"
   ]
  },
  {
   "cell_type": "markdown",
   "id": "2016f977-ac55-465c-83d8-7200df716f25",
   "metadata": {
    "tags": []
   },
   "source": [
    "<h3 id=\"heading\"><span style=\"background-color:#cefffb; color:#1b4946; display:fill;border-radius:5px; font-family:cursive\"> 📝 Description of the Project </span></h3>"
   ]
  },
  {
   "cell_type": "markdown",
   "id": "020535a7-7968-4b0f-8f19-f83ca0462d12",
   "metadata": {},
   "source": []
  },
  {
   "cell_type": "markdown",
   "id": "b5664277-23a2-48d4-a3ab-fbe576bca6db",
   "metadata": {
    "tags": []
   },
   "source": [
    "<h3 id=\"heading\"><span style=\"background-color:#cefffb; color:#1b4946 ; display:fill;border-radius:5px; font-family:cursive\"> 📥 Import packages & URL </span></h3>"
   ]
  },
  {
   "cell_type": "code",
   "execution_count": 142,
   "id": "7f320624-253b-4f0d-8c96-244921ef7589",
   "metadata": {
    "execution": {
     "iopub.execute_input": "2023-08-23T11:45:41.947002Z",
     "iopub.status.busy": "2023-08-23T11:45:41.945623Z",
     "iopub.status.idle": "2023-08-23T11:45:41.951134Z",
     "shell.execute_reply": "2023-08-23T11:45:41.950253Z",
     "shell.execute_reply.started": "2023-08-23T11:45:41.946953Z"
    }
   },
   "outputs": [],
   "source": [
    "FIG_DIR = '/home/saitama/projects portfolio/2 Web scraping/image'"
   ]
  },
  {
   "cell_type": "code",
   "execution_count": 146,
   "id": "77632fab-7c64-4144-859d-2227e43d9f6f",
   "metadata": {
    "execution": {
     "iopub.execute_input": "2023-08-23T11:47:29.715873Z",
     "iopub.status.busy": "2023-08-23T11:47:29.715351Z",
     "iopub.status.idle": "2023-08-23T11:47:29.721907Z",
     "shell.execute_reply": "2023-08-23T11:47:29.720679Z",
     "shell.execute_reply.started": "2023-08-23T11:47:29.715828Z"
    },
    "tags": []
   },
   "outputs": [],
   "source": [
    "# packages webscraping\n",
    "import requests\n",
    "from bs4 import BeautifulSoup\n",
    "\n",
    "# Load packages\n",
    "import pandas as pd \n",
    "import numpy as np\n",
    "import logging\n",
    "import pickle\n",
    "import os\n",
    "\n",
    "\n",
    "import plotly \n",
    "import plotly.graph_objects as go\n",
    "from plotly.subplots import make_subplots\n",
    "import plotly.express as px\n",
    "import plotly.figure_factory as ff\n",
    "\n",
    "from matplotlib import pyplot as plt"
   ]
  },
  {
   "cell_type": "code",
   "execution_count": 2,
   "id": "c968693a-d403-4aad-9174-0a7045345acb",
   "metadata": {
    "execution": {
     "iopub.execute_input": "2023-08-22T23:24:39.393220Z",
     "iopub.status.busy": "2023-08-22T23:24:39.392758Z",
     "iopub.status.idle": "2023-08-22T23:24:39.398305Z",
     "shell.execute_reply": "2023-08-22T23:24:39.397101Z",
     "shell.execute_reply.started": "2023-08-22T23:24:39.393173Z"
    }
   },
   "outputs": [],
   "source": [
    "URL = \"https://vgsales.fandom.com/wiki/List_of_highest-grossing_mobile_games\""
   ]
  },
  {
   "cell_type": "markdown",
   "id": "5ce96e8a-7948-4189-94f5-77045af6254a",
   "metadata": {
    "tags": []
   },
   "source": [
    "<h3 id=\"heading\"><span style=\"background-color:#cefffb; color:#1b4946 ; display:fill;border-radius:5px; font-family:cursive\"> 📤 Send Request to Web page </span></h3>"
   ]
  },
  {
   "cell_type": "code",
   "execution_count": 3,
   "id": "a1ddc378-d470-4614-9f05-37840b832202",
   "metadata": {
    "execution": {
     "iopub.execute_input": "2023-08-22T23:24:39.943951Z",
     "iopub.status.busy": "2023-08-22T23:24:39.942598Z",
     "iopub.status.idle": "2023-08-22T23:24:40.199417Z",
     "shell.execute_reply": "2023-08-22T23:24:40.198385Z",
     "shell.execute_reply.started": "2023-08-22T23:24:39.943904Z"
    }
   },
   "outputs": [
    {
     "name": "stdout",
     "output_type": "stream",
     "text": [
      "Request successful!\n"
     ]
    }
   ],
   "source": [
    "response = requests.get(URL)\n",
    "if response.status_code == 200:\n",
    "    print(\"Request successful!\")\n",
    "else:\n",
    "    print(f\"Request failed with status code: {response.status_code}\")"
   ]
  },
  {
   "cell_type": "code",
   "execution_count": 4,
   "id": "e3460287-891d-462d-8f8e-3e357bc605c4",
   "metadata": {
    "execution": {
     "iopub.execute_input": "2023-08-22T23:24:42.519892Z",
     "iopub.status.busy": "2023-08-22T23:24:42.518850Z",
     "iopub.status.idle": "2023-08-22T23:24:42.712030Z",
     "shell.execute_reply": "2023-08-22T23:24:42.710945Z",
     "shell.execute_reply.started": "2023-08-22T23:24:42.519836Z"
    }
   },
   "outputs": [],
   "source": [
    "# use different parser like 'html.parser' 'lxml'\n",
    "soup = BeautifulSoup(response.text, 'lxml')"
   ]
  },
  {
   "cell_type": "markdown",
   "id": "596c4722-e959-482e-8097-df3fc63b6536",
   "metadata": {
    "tags": []
   },
   "source": [
    "<h4 id=\"heading\"><span style=\"background-color:#fcf3b9; color:#3d3710 ; display:fill;border-radius:5px; font-family:Georgia\">2. 🗄️ Columns have problem </span></h4>"
   ]
  },
  {
   "cell_type": "code",
   "execution_count": 28,
   "id": "f28d8046-436d-4dd4-9e0a-c02aa48083ee",
   "metadata": {
    "execution": {
     "iopub.execute_input": "2023-08-22T23:41:54.202602Z",
     "iopub.status.busy": "2023-08-22T23:41:54.201792Z",
     "iopub.status.idle": "2023-08-22T23:41:54.211613Z",
     "shell.execute_reply": "2023-08-22T23:41:54.210344Z",
     "shell.execute_reply.started": "2023-08-22T23:41:54.202570Z"
    }
   },
   "outputs": [
    {
     "name": "stdout",
     "output_type": "stream",
     "text": [
      "['Rank', 'Game title', 'Revenue', 'Initial release', 'Publisher(s)', 'Genre(s)', 'Ref']\n"
     ]
    }
   ],
   "source": [
    "# Find a the table that contain all the info by tag and class\n",
    "table = soup.find('table', class_=\"wikitable sortable static-row-numbers\", style=\"text-align:center; font-size:85%\")\n",
    "\n",
    "# Extract headers of the table content\n",
    "headers = table.find_all('th')\n",
    "titles = []\n",
    "for i in headers:\n",
    "    title = i.text\n",
    "    # append the titles in the headers without whitespaces or new line\n",
    "    titles.append(title.replace('\\n', ''))\n",
    "print(titles)\n",
    "# text_content\n"
   ]
  },
  {
   "cell_type": "markdown",
   "id": "0faf7acc-37f8-43ea-81d7-7a5e679e6dc7",
   "metadata": {},
   "source": [
    "<div style=\"display:fill;\n",
    "           border-radius:5px;\n",
    "           background-color:#ffdbdb;;\n",
    "           font-family:Georgia;\">\n",
    "\n",
    "<p \n",
    "    <span style=\"padding: 6px;\n",
    "          color:#aa0c0c;\">\n",
    "📌 Let creat a dataFrame for the content of the table.\n",
    "</p>\n",
    "</div>"
   ]
  },
  {
   "cell_type": "code",
   "execution_count": 42,
   "id": "ad546707-f6cd-4444-af7e-938fc33908e8",
   "metadata": {
    "execution": {
     "iopub.execute_input": "2023-08-23T00:27:20.788599Z",
     "iopub.status.busy": "2023-08-23T00:27:20.787316Z",
     "iopub.status.idle": "2023-08-23T00:27:20.799419Z",
     "shell.execute_reply": "2023-08-23T00:27:20.798633Z",
     "shell.execute_reply.started": "2023-08-23T00:27:20.788540Z"
    }
   },
   "outputs": [
    {
     "data": {
      "text/html": [
       "<div>\n",
       "<style scoped>\n",
       "    .dataframe tbody tr th:only-of-type {\n",
       "        vertical-align: middle;\n",
       "    }\n",
       "\n",
       "    .dataframe tbody tr th {\n",
       "        vertical-align: top;\n",
       "    }\n",
       "\n",
       "    .dataframe thead th {\n",
       "        text-align: right;\n",
       "    }\n",
       "</style>\n",
       "<table border=\"1\" class=\"dataframe\">\n",
       "  <thead>\n",
       "    <tr style=\"text-align: right;\">\n",
       "      <th></th>\n",
       "      <th>Rank</th>\n",
       "      <th>Game title</th>\n",
       "      <th>Revenue</th>\n",
       "      <th>Initial release</th>\n",
       "      <th>Publisher(s)</th>\n",
       "      <th>Genre(s)</th>\n",
       "      <th>Ref</th>\n",
       "    </tr>\n",
       "  </thead>\n",
       "  <tbody>\n",
       "  </tbody>\n",
       "</table>\n",
       "</div>"
      ],
      "text/plain": [
       "Empty DataFrame\n",
       "Columns: [Rank, Game title, Revenue, Initial release, Publisher(s), Genre(s), Ref]\n",
       "Index: []"
      ]
     },
     "execution_count": 42,
     "metadata": {},
     "output_type": "execute_result"
    }
   ],
   "source": [
    "# Let create a Dataframe for our content from the web\n",
    "df = pd.DataFrame(columns=titles)\n",
    "df"
   ]
  },
  {
   "cell_type": "markdown",
   "id": "42e69e35-e173-4c0a-9391-d72d58316a41",
   "metadata": {},
   "source": [
    "<div style=\"display:fill;\n",
    "           border-radius:5px;\n",
    "           background-color:#ffdbdb;;\n",
    "           font-family:Georgia;\">\n",
    "\n",
    "<p \n",
    "    <span style=\"padding: 6px;\n",
    "          color:#aa0c0c;\">\n",
    "📌 Remark that the Dataframe \"df\" is empty which have lenght of 0 so if we add a row for each itteration in the for loop the lenght of df start increasing which we can add other row element after.\n",
    "</p>\n",
    "</div>"
   ]
  },
  {
   "cell_type": "code",
   "execution_count": 48,
   "id": "414fae9e-b993-4f6a-86ce-6421abd97632",
   "metadata": {
    "execution": {
     "iopub.execute_input": "2023-08-23T00:30:30.042476Z",
     "iopub.status.busy": "2023-08-23T00:30:30.042069Z",
     "iopub.status.idle": "2023-08-23T00:30:30.047751Z",
     "shell.execute_reply": "2023-08-23T00:30:30.046751Z",
     "shell.execute_reply.started": "2023-08-23T00:30:30.042441Z"
    }
   },
   "outputs": [
    {
     "name": "stdout",
     "output_type": "stream",
     "text": [
      "(16, 7)\n"
     ]
    }
   ],
   "source": [
    "print(df.shape)"
   ]
  },
  {
   "cell_type": "code",
   "execution_count": 54,
   "id": "6bd10fe5-2b15-4c76-91ea-c5e006af2e15",
   "metadata": {
    "execution": {
     "iopub.execute_input": "2023-08-23T00:46:22.991090Z",
     "iopub.status.busy": "2023-08-23T00:46:22.990529Z",
     "iopub.status.idle": "2023-08-23T00:46:23.242109Z",
     "shell.execute_reply": "2023-08-23T00:46:23.241112Z",
     "shell.execute_reply.started": "2023-08-23T00:46:22.991048Z"
    }
   },
   "outputs": [],
   "source": [
    "rows = table.find_all('tr')\n",
    "for row in rows[1:]:\n",
    "    values = row.find_all('td')\n",
    "    data = [value.text.replace('\\n', '') for value in values]\n",
    "    indice = len(df)\n",
    "    if len(data) == 7:\n",
    "        # add the row data to the DataFrame using loc function\n",
    "        df.loc[indice] = data\n",
    "        rank = data[0]\n",
    "    else:\n",
    "        df.loc[indice] = [rank] + data"
   ]
  },
  {
   "cell_type": "code",
   "execution_count": 58,
   "id": "adbd2063-0d1d-429f-88a3-b5834331b0a6",
   "metadata": {
    "execution": {
     "iopub.execute_input": "2023-08-23T01:12:34.056331Z",
     "iopub.status.busy": "2023-08-23T01:12:34.055673Z",
     "iopub.status.idle": "2023-08-23T01:12:34.074625Z",
     "shell.execute_reply": "2023-08-23T01:12:34.073278Z",
     "shell.execute_reply.started": "2023-08-23T01:12:34.056285Z"
    },
    "scrolled": true
   },
   "outputs": [
    {
     "data": {
      "text/html": [
       "<div>\n",
       "<style scoped>\n",
       "    .dataframe tbody tr th:only-of-type {\n",
       "        vertical-align: middle;\n",
       "    }\n",
       "\n",
       "    .dataframe tbody tr th {\n",
       "        vertical-align: top;\n",
       "    }\n",
       "\n",
       "    .dataframe thead th {\n",
       "        text-align: right;\n",
       "    }\n",
       "</style>\n",
       "<table border=\"1\" class=\"dataframe\">\n",
       "  <thead>\n",
       "    <tr style=\"text-align: right;\">\n",
       "      <th></th>\n",
       "      <th>Rank</th>\n",
       "      <th>Game title</th>\n",
       "      <th>Revenue</th>\n",
       "      <th>Initial release</th>\n",
       "      <th>Publisher(s)</th>\n",
       "      <th>Genre(s)</th>\n",
       "      <th>Ref</th>\n",
       "    </tr>\n",
       "  </thead>\n",
       "  <tbody>\n",
       "    <tr>\n",
       "      <th>422</th>\n",
       "      <td>90</td>\n",
       "      <td>Mahjong Soul</td>\n",
       "      <td>$150,000,000</td>\n",
       "      <td>November 2019</td>\n",
       "      <td>Yostar</td>\n",
       "      <td>Board game (Mahjong)</td>\n",
       "      <td>[105]</td>\n",
       "    </tr>\n",
       "    <tr>\n",
       "      <th>423</th>\n",
       "      <td>91</td>\n",
       "      <td>Slotomania</td>\n",
       "      <td>$149,000,000</td>\n",
       "      <td>November 7, 2011</td>\n",
       "      <td>Playtika</td>\n",
       "      <td>Simulation (Slot)</td>\n",
       "      <td>[106]</td>\n",
       "    </tr>\n",
       "    <tr>\n",
       "      <th>424</th>\n",
       "      <td>92</td>\n",
       "      <td>NBA Live Mobile</td>\n",
       "      <td>$140,000,000</td>\n",
       "      <td>July 6, 2016</td>\n",
       "      <td>EA Sports (Electronic Arts)</td>\n",
       "      <td>Sports (basketball)</td>\n",
       "      <td>[107]</td>\n",
       "    </tr>\n",
       "    <tr>\n",
       "      <th>425</th>\n",
       "      <td>93</td>\n",
       "      <td>White Cat Project</td>\n",
       "      <td>$134,000,000</td>\n",
       "      <td>July 14, 2014</td>\n",
       "      <td>Colopl</td>\n",
       "      <td>Action RPG</td>\n",
       "      <td>[n 32]</td>\n",
       "    </tr>\n",
       "    <tr>\n",
       "      <th>426</th>\n",
       "      <td>94</td>\n",
       "      <td>BanG Dream! Girls Band Party!</td>\n",
       "      <td>$124,050,000</td>\n",
       "      <td>March 16, 2017</td>\n",
       "      <td>Bushiroad</td>\n",
       "      <td>Rhythm / Adventure</td>\n",
       "      <td>[n 33]</td>\n",
       "    </tr>\n",
       "    <tr>\n",
       "      <th>427</th>\n",
       "      <td>95</td>\n",
       "      <td>CSR Racing 2</td>\n",
       "      <td>$121,500,000</td>\n",
       "      <td>June 29, 2016</td>\n",
       "      <td>NaturalMotion (Zynga)</td>\n",
       "      <td>Racing</td>\n",
       "      <td>[75]</td>\n",
       "    </tr>\n",
       "    <tr>\n",
       "      <th>428</th>\n",
       "      <td>96</td>\n",
       "      <td>One Piece: Burning Will</td>\n",
       "      <td>$117,000,000</td>\n",
       "      <td>September 20, 2018</td>\n",
       "      <td>Bandai Namco / Alibaba Group</td>\n",
       "      <td>RPG</td>\n",
       "      <td>[55]</td>\n",
       "    </tr>\n",
       "    <tr>\n",
       "      <th>429</th>\n",
       "      <td>97</td>\n",
       "      <td>One Piece: The Road of the Strong</td>\n",
       "      <td>$113,840,000</td>\n",
       "      <td>January 15, 2016</td>\n",
       "      <td>CMGE</td>\n",
       "      <td>DCCG</td>\n",
       "      <td>[n 34]</td>\n",
       "    </tr>\n",
       "    <tr>\n",
       "      <th>430</th>\n",
       "      <td>98</td>\n",
       "      <td>Yahtzee With Buddies</td>\n",
       "      <td>$113,000,000</td>\n",
       "      <td>November 1, 2017</td>\n",
       "      <td>Scopely</td>\n",
       "      <td>Board game</td>\n",
       "      <td>[12]</td>\n",
       "    </tr>\n",
       "    <tr>\n",
       "      <th>431</th>\n",
       "      <td>99</td>\n",
       "      <td>Dragon Quest Tact</td>\n",
       "      <td>$111,990,000</td>\n",
       "      <td>July 16, 2020</td>\n",
       "      <td>Square Enix</td>\n",
       "      <td>Tactical RPG</td>\n",
       "      <td>[111][112]</td>\n",
       "    </tr>\n",
       "  </tbody>\n",
       "</table>\n",
       "</div>"
      ],
      "text/plain": [
       "    Rank                         Game title       Revenue     Initial release  \\\n",
       "422   90                       Mahjong Soul  $150,000,000       November 2019   \n",
       "423   91                         Slotomania  $149,000,000    November 7, 2011   \n",
       "424   92                    NBA Live Mobile  $140,000,000        July 6, 2016   \n",
       "425   93                  White Cat Project  $134,000,000       July 14, 2014   \n",
       "426   94      BanG Dream! Girls Band Party!  $124,050,000      March 16, 2017   \n",
       "427   95                       CSR Racing 2  $121,500,000       June 29, 2016   \n",
       "428   96            One Piece: Burning Will  $117,000,000  September 20, 2018   \n",
       "429   97  One Piece: The Road of the Strong  $113,840,000    January 15, 2016   \n",
       "430   98               Yahtzee With Buddies  $113,000,000    November 1, 2017   \n",
       "431   99                  Dragon Quest Tact  $111,990,000       July 16, 2020   \n",
       "\n",
       "                     Publisher(s)              Genre(s)         Ref  \n",
       "422                        Yostar  Board game (Mahjong)       [105]  \n",
       "423                      Playtika     Simulation (Slot)       [106]  \n",
       "424   EA Sports (Electronic Arts)   Sports (basketball)       [107]  \n",
       "425                        Colopl            Action RPG      [n 32]  \n",
       "426                     Bushiroad    Rhythm / Adventure      [n 33]  \n",
       "427         NaturalMotion (Zynga)                Racing        [75]  \n",
       "428  Bandai Namco / Alibaba Group                   RPG        [55]  \n",
       "429                          CMGE                  DCCG      [n 34]  \n",
       "430                       Scopely            Board game        [12]  \n",
       "431                   Square Enix          Tactical RPG  [111][112]  "
      ]
     },
     "execution_count": 58,
     "metadata": {},
     "output_type": "execute_result"
    }
   ],
   "source": [
    "df.tail(10)"
   ]
  },
  {
   "cell_type": "code",
   "execution_count": 56,
   "id": "6ff1fe28-4ac6-4dcf-82e3-b90ecb5a2447",
   "metadata": {
    "execution": {
     "iopub.execute_input": "2023-08-23T00:46:57.691963Z",
     "iopub.status.busy": "2023-08-23T00:46:57.690938Z",
     "iopub.status.idle": "2023-08-23T00:46:57.711634Z",
     "shell.execute_reply": "2023-08-23T00:46:57.709633Z",
     "shell.execute_reply.started": "2023-08-23T00:46:57.691908Z"
    },
    "scrolled": true
   },
   "outputs": [
    {
     "name": "stdout",
     "output_type": "stream",
     "text": [
      "<class 'pandas.core.frame.DataFrame'>\n",
      "Index: 432 entries, 0 to 431\n",
      "Data columns (total 7 columns):\n",
      " #   Column           Non-Null Count  Dtype \n",
      "---  ------           --------------  ----- \n",
      " 0   Rank             432 non-null    object\n",
      " 1   Game title       432 non-null    object\n",
      " 2   Revenue          432 non-null    object\n",
      " 3   Initial release  432 non-null    object\n",
      " 4   Publisher(s)     432 non-null    object\n",
      " 5   Genre(s)         432 non-null    object\n",
      " 6   Ref              432 non-null    object\n",
      "dtypes: object(7)\n",
      "memory usage: 27.0+ KB\n"
     ]
    }
   ],
   "source": [
    "df.info()"
   ]
  },
  {
   "cell_type": "markdown",
   "id": "a51e6fae-4df9-4cf1-b262-b82205b8e861",
   "metadata": {
    "jupyter": {
     "source_hidden": true
    }
   },
   "source": [
    "<span style=\"font-family:cursive;\n",
    "             color:#ff9d91\">From the info above we can see two major problems:👨‍💻</span>\n",
    "- [x] We have many missing values from different columns\n",
    "- [x] We have some columns that need to be integers or floats but insted they have object type (which mean string)"
   ]
  },
  {
   "cell_type": "code",
   "execution_count": 59,
   "id": "f613aab4-723f-40c1-b7bc-a65a3dda8309",
   "metadata": {
    "execution": {
     "iopub.execute_input": "2023-08-23T10:21:39.894737Z",
     "iopub.status.busy": "2023-08-23T10:21:39.894266Z",
     "iopub.status.idle": "2023-08-23T10:21:39.911186Z",
     "shell.execute_reply": "2023-08-23T10:21:39.909826Z",
     "shell.execute_reply.started": "2023-08-23T10:21:39.894712Z"
    },
    "scrolled": true
   },
   "outputs": [
    {
     "data": {
      "text/html": [
       "<div>\n",
       "<style scoped>\n",
       "    .dataframe tbody tr th:only-of-type {\n",
       "        vertical-align: middle;\n",
       "    }\n",
       "\n",
       "    .dataframe tbody tr th {\n",
       "        vertical-align: top;\n",
       "    }\n",
       "\n",
       "    .dataframe thead th {\n",
       "        text-align: right;\n",
       "    }\n",
       "</style>\n",
       "<table border=\"1\" class=\"dataframe\">\n",
       "  <thead>\n",
       "    <tr style=\"text-align: right;\">\n",
       "      <th></th>\n",
       "      <th>Rank</th>\n",
       "      <th>Game title</th>\n",
       "      <th>Revenue</th>\n",
       "      <th>Initial release</th>\n",
       "      <th>Publisher(s)</th>\n",
       "      <th>Genre(s)</th>\n",
       "      <th>Ref</th>\n",
       "    </tr>\n",
       "  </thead>\n",
       "  <tbody>\n",
       "    <tr>\n",
       "      <th>0</th>\n",
       "      <td>1</td>\n",
       "      <td>Honor of Kings (Arena of Valor)</td>\n",
       "      <td>$16,184,000,000</td>\n",
       "      <td>November 26, 2015</td>\n",
       "      <td>Tencent Games</td>\n",
       "      <td>MOBA</td>\n",
       "      <td>[n 1]</td>\n",
       "    </tr>\n",
       "    <tr>\n",
       "      <th>1</th>\n",
       "      <td>2</td>\n",
       "      <td>Monster Strike</td>\n",
       "      <td>$10,501,921,723</td>\n",
       "      <td>August 8, 2013</td>\n",
       "      <td>Mixi</td>\n",
       "      <td>Puzzle / RPG / Strategy</td>\n",
       "      <td>[n 2]</td>\n",
       "    </tr>\n",
       "    <tr>\n",
       "      <th>2</th>\n",
       "      <td>3</td>\n",
       "      <td>PUBG Mobile</td>\n",
       "      <td>$10,000,000,000</td>\n",
       "      <td>March 19, 2018</td>\n",
       "      <td>Tencent Games / Krafton / VNG Games</td>\n",
       "      <td>Battle royale</td>\n",
       "      <td>[14]</td>\n",
       "    </tr>\n",
       "    <tr>\n",
       "      <th>3</th>\n",
       "      <td>4</td>\n",
       "      <td>Puzzle &amp; Dragons</td>\n",
       "      <td>$8,578,340,000</td>\n",
       "      <td>February 20, 2012</td>\n",
       "      <td>GungHo Online Entertainment</td>\n",
       "      <td>RPG / Puzzle</td>\n",
       "      <td>[n 3]</td>\n",
       "    </tr>\n",
       "    <tr>\n",
       "      <th>4</th>\n",
       "      <td>5</td>\n",
       "      <td>Clash of Clans</td>\n",
       "      <td>$8,400,000,000</td>\n",
       "      <td>August 2, 2012</td>\n",
       "      <td>Supercell (Tencent)</td>\n",
       "      <td>Strategy</td>\n",
       "      <td>[20]</td>\n",
       "    </tr>\n",
       "  </tbody>\n",
       "</table>\n",
       "</div>"
      ],
      "text/plain": [
       "  Rank                       Game title          Revenue    Initial release  \\\n",
       "0    1  Honor of Kings (Arena of Valor)  $16,184,000,000  November 26, 2015   \n",
       "1    2                   Monster Strike  $10,501,921,723     August 8, 2013   \n",
       "2    3                      PUBG Mobile  $10,000,000,000     March 19, 2018   \n",
       "3    4                 Puzzle & Dragons   $8,578,340,000  February 20, 2012   \n",
       "4    5                   Clash of Clans   $8,400,000,000     August 2, 2012   \n",
       "\n",
       "                          Publisher(s)                 Genre(s)    Ref  \n",
       "0                        Tencent Games                     MOBA  [n 1]  \n",
       "1                                 Mixi  Puzzle / RPG / Strategy  [n 2]  \n",
       "2  Tencent Games / Krafton / VNG Games            Battle royale   [14]  \n",
       "3          GungHo Online Entertainment             RPG / Puzzle  [n 3]  \n",
       "4                  Supercell (Tencent)                 Strategy   [20]  "
      ]
     },
     "execution_count": 59,
     "metadata": {},
     "output_type": "execute_result"
    }
   ],
   "source": []
  },
  {
   "cell_type": "code",
   "execution_count": 60,
   "id": "bf568adb-3dcc-4c0c-a8b8-8f4cec3b88b2",
   "metadata": {
    "execution": {
     "iopub.execute_input": "2023-08-23T10:23:49.317946Z",
     "iopub.status.busy": "2023-08-23T10:23:49.317142Z",
     "iopub.status.idle": "2023-08-23T10:23:49.324824Z",
     "shell.execute_reply": "2023-08-23T10:23:49.323644Z",
     "shell.execute_reply.started": "2023-08-23T10:23:49.317891Z"
    }
   },
   "outputs": [],
   "source": [
    "df['Rank'] = df['Rank'].astype(int)"
   ]
  },
  {
   "cell_type": "code",
   "execution_count": 69,
   "id": "a2b169e8-5cb5-49ae-a39b-b2095817eb48",
   "metadata": {
    "execution": {
     "iopub.execute_input": "2023-08-23T10:26:02.221187Z",
     "iopub.status.busy": "2023-08-23T10:26:02.220356Z",
     "iopub.status.idle": "2023-08-23T10:26:02.227375Z",
     "shell.execute_reply": "2023-08-23T10:26:02.226241Z",
     "shell.execute_reply.started": "2023-08-23T10:26:02.221144Z"
    },
    "scrolled": true
   },
   "outputs": [
    {
     "name": "stdout",
     "output_type": "stream",
     "text": [
      "['MOBA' 'Puzzle / RPG / Strategy' 'Battle royale' 'RPG / Puzzle'\n",
      " 'Strategy' 'Augmented reality' 'Puzzle' 'RPG' 'MMORPG' 'GCS / MMO'\n",
      " 'Action RPG' 'Casual / Casino' 'Real-time strategy' 'Puzzle / Decoration'\n",
      " 'Strategy / MMO' 'Sports (baseball)' 'Simulation / Social'\n",
      " 'Strategy (4X)' 'Fighting' 'Shooter / Battle royale' 'Simulation'\n",
      " 'TBS / MMO' 'Tactical RPG' 'Racing (Kart / MMOR)' 'Simulation (CMS)'\n",
      " 'ARPG / Hack & slash' 'DCCG' 'Real Time Strategy' 'DCCG / Rhythm'\n",
      " 'Strategy MMORPG' 'Sandbox / Survival' 'Tactical FPS' 'Online Bingo'\n",
      " 'Sports (pool)' \"Shoot 'em up / RPG\" 'Physics / Puzzle'\n",
      " 'Sports (association football)' 'Digital collectible card game'\n",
      " 'Racing (Kart)' 'Simulation (Social)' 'Puzzle / RPG'\n",
      " 'Strategy (auto battler)' 'Puzzle / Strategy' 'Board game (Mahjong)'\n",
      " 'Simulation (Slot)' 'Sports (basketball)' 'Rhythm / Adventure' 'Racing'\n",
      " 'Board game']\n"
     ]
    }
   ],
   "source": [
    "unique df['Genre(s)'].unique()"
   ]
  },
  {
   "cell_type": "markdown",
   "id": "af3a52a4-cacd-4357-abef-a109f5681f11",
   "metadata": {},
   "source": [
    "<div style=\"display:fill;\n",
    "           border-radius:5px;\n",
    "           background-color:#ffdbdb;;\n",
    "           font-family:Georgia;\">\n",
    "\n",
    "<p \n",
    "    <span style=\"padding: 6px;\n",
    "          color:#aa0c0c;\">\n",
    "📌 Let creat a function that split column which have multiple values such that genre and publisher.\n",
    "</p>\n",
    "</div>"
   ]
  },
  {
   "cell_type": "code",
   "execution_count": 194,
   "id": "2f867b9b-0ff4-40ea-8794-c48ea343799f",
   "metadata": {
    "execution": {
     "iopub.execute_input": "2023-08-23T12:41:14.897357Z",
     "iopub.status.busy": "2023-08-23T12:41:14.896916Z",
     "iopub.status.idle": "2023-08-23T12:41:14.906193Z",
     "shell.execute_reply": "2023-08-23T12:41:14.904996Z",
     "shell.execute_reply.started": "2023-08-23T12:41:14.897292Z"
    }
   },
   "outputs": [],
   "source": [
    "def split_columns(column_serie, separator='/'):\n",
    "    \"\"\"\n",
    "    Split multiple genre in a single string \n",
    "    to a list of single strings each representing a single genre \n",
    "    \n",
    "    Parameters:\n",
    "    * column_serie (pd.Series): string series with multiple answers\n",
    "    * separator (str): string to use as a separator\n",
    "    \n",
    "    Returns: (pd.Series) contains a series of lists\n",
    "    \"\"\"\n",
    "    \n",
    "    # Sub-function checking if they are multiple answers\n",
    "    def multi_value_checker(pd_series, separator):\n",
    "        \"\"\" Check if the answer can be split by the separator - Returns boolean \"\"\"\n",
    "        return pd_series.str.contains(pat=separator)\n",
    "    \n",
    "    # Sub-function split each answer\n",
    "    def split_column(pd_series, separator):\n",
    "        \"\"\" Split the string value by the separator - return list \"\"\"\n",
    "        return pd_series.str.split(separator)\n",
    "\n",
    "    # Sub-function to clean strings (strip and remove newline characters)\n",
    "    def clean_strings(pd_series):\n",
    "        \"\"\" Clean strings by stripping and removing newline characters \"\"\"\n",
    "        def clean_string(string):\n",
    "            if isinstance(string, str):\n",
    "                return string.strip().replace('\\n', '')\n",
    "            return string\n",
    "        return pd_series.apply(clean_string)\n",
    "\n",
    "    # Clean the column_serie strings\n",
    "    column_cleaned = clean_strings(column_serie)\n",
    "    \n",
    "    # Check if the column_cleaned is splitable\n",
    "    val_splitable = multi_value_checker(column_cleaned, separator)\n",
    "    if not val_splitable.any():\n",
    "        return column_cleaned\n",
    "        \n",
    "    # If val_splitable.any() is True then split the column\n",
    "    column_splited = split_column(column_cleaned, separator)\n",
    "                                  \n",
    "    # Replace the empty value by an empty list\n",
    "    null_answers_bool = column_splited.isnull()\n",
    "    column_splited.loc[null_answers_bool] = column_splited.loc[null_answers_bool].apply(lambda x: [])\n",
    "    \n",
    "    return column_splited\n"
   ]
  },
  {
   "cell_type": "code",
   "execution_count": 195,
   "id": "0856c8dd-5a16-422a-a4b2-5fc188eb0561",
   "metadata": {
    "execution": {
     "iopub.execute_input": "2023-08-23T12:41:15.490472Z",
     "iopub.status.busy": "2023-08-23T12:41:15.489824Z",
     "iopub.status.idle": "2023-08-23T12:41:15.495192Z",
     "shell.execute_reply": "2023-08-23T12:41:15.494048Z",
     "shell.execute_reply.started": "2023-08-23T12:41:15.490436Z"
    }
   },
   "outputs": [],
   "source": [
    "raw_df = df.copy()"
   ]
  },
  {
   "cell_type": "code",
   "execution_count": 196,
   "id": "0fd45f2a-d7e4-47b1-ae92-e2abac969ff8",
   "metadata": {
    "execution": {
     "iopub.execute_input": "2023-08-23T12:41:15.921009Z",
     "iopub.status.busy": "2023-08-23T12:41:15.920432Z",
     "iopub.status.idle": "2023-08-23T12:41:15.940877Z",
     "shell.execute_reply": "2023-08-23T12:41:15.939552Z",
     "shell.execute_reply.started": "2023-08-23T12:41:15.920974Z"
    }
   },
   "outputs": [],
   "source": [
    "# Select all the column that have type object and split them if its possible\n",
    "# COLUMNS_SPLIT = raw_df.select_dtypes('object').columns.to_list()\n",
    "\n",
    "# Select manually the targeted columns: Genere(s) and Publisher(s)\n",
    "COLUMNS_SPLIT = ['Genre(s)', 'Publisher(s)']\n",
    "for column in COLUMNS_SPLIT:\n",
    "    raw_df[column] = split_columns(raw_df[column],'/')\n"
   ]
  },
  {
   "cell_type": "code",
   "execution_count": 197,
   "id": "78ba5cf0-0651-4af3-b78b-c8d9193133a4",
   "metadata": {
    "execution": {
     "iopub.execute_input": "2023-08-23T12:41:17.633445Z",
     "iopub.status.busy": "2023-08-23T12:41:17.632877Z",
     "iopub.status.idle": "2023-08-23T12:41:17.654537Z",
     "shell.execute_reply": "2023-08-23T12:41:17.653268Z",
     "shell.execute_reply.started": "2023-08-23T12:41:17.633418Z"
    }
   },
   "outputs": [
    {
     "data": {
      "text/html": [
       "<div>\n",
       "<style scoped>\n",
       "    .dataframe tbody tr th:only-of-type {\n",
       "        vertical-align: middle;\n",
       "    }\n",
       "\n",
       "    .dataframe tbody tr th {\n",
       "        vertical-align: top;\n",
       "    }\n",
       "\n",
       "    .dataframe thead th {\n",
       "        text-align: right;\n",
       "    }\n",
       "</style>\n",
       "<table border=\"1\" class=\"dataframe\">\n",
       "  <thead>\n",
       "    <tr style=\"text-align: right;\">\n",
       "      <th></th>\n",
       "      <th>Rank</th>\n",
       "      <th>Game title</th>\n",
       "      <th>Revenue</th>\n",
       "      <th>Initial release</th>\n",
       "      <th>Publisher(s)</th>\n",
       "      <th>Genre(s)</th>\n",
       "      <th>Ref</th>\n",
       "    </tr>\n",
       "  </thead>\n",
       "  <tbody>\n",
       "    <tr>\n",
       "      <th>0</th>\n",
       "      <td>1</td>\n",
       "      <td>Honor of Kings (Arena of Valor)</td>\n",
       "      <td>$16,184,000,000</td>\n",
       "      <td>November 26, 2015</td>\n",
       "      <td>[Tencent Games]</td>\n",
       "      <td>[MOBA]</td>\n",
       "      <td>[n 1]</td>\n",
       "    </tr>\n",
       "    <tr>\n",
       "      <th>1</th>\n",
       "      <td>2</td>\n",
       "      <td>Monster Strike</td>\n",
       "      <td>$10,501,921,723</td>\n",
       "      <td>August 8, 2013</td>\n",
       "      <td>[Mixi]</td>\n",
       "      <td>[Puzzle ,  RPG ,  Strategy]</td>\n",
       "      <td>[n 2]</td>\n",
       "    </tr>\n",
       "    <tr>\n",
       "      <th>2</th>\n",
       "      <td>3</td>\n",
       "      <td>PUBG Mobile</td>\n",
       "      <td>$10,000,000,000</td>\n",
       "      <td>March 19, 2018</td>\n",
       "      <td>[Tencent Games ,  Krafton ,  VNG Games]</td>\n",
       "      <td>[Battle royale]</td>\n",
       "      <td>[14]</td>\n",
       "    </tr>\n",
       "    <tr>\n",
       "      <th>3</th>\n",
       "      <td>4</td>\n",
       "      <td>Puzzle &amp; Dragons</td>\n",
       "      <td>$8,578,340,000</td>\n",
       "      <td>February 20, 2012</td>\n",
       "      <td>[GungHo Online Entertainment]</td>\n",
       "      <td>[RPG ,  Puzzle]</td>\n",
       "      <td>[n 3]</td>\n",
       "    </tr>\n",
       "    <tr>\n",
       "      <th>4</th>\n",
       "      <td>5</td>\n",
       "      <td>Clash of Clans</td>\n",
       "      <td>$8,400,000,000</td>\n",
       "      <td>August 2, 2012</td>\n",
       "      <td>[Supercell (Tencent)]</td>\n",
       "      <td>[Strategy]</td>\n",
       "      <td>[20]</td>\n",
       "    </tr>\n",
       "  </tbody>\n",
       "</table>\n",
       "</div>"
      ],
      "text/plain": [
       "   Rank                       Game title          Revenue    Initial release  \\\n",
       "0     1  Honor of Kings (Arena of Valor)  $16,184,000,000  November 26, 2015   \n",
       "1     2                   Monster Strike  $10,501,921,723     August 8, 2013   \n",
       "2     3                      PUBG Mobile  $10,000,000,000     March 19, 2018   \n",
       "3     4                 Puzzle & Dragons   $8,578,340,000  February 20, 2012   \n",
       "4     5                   Clash of Clans   $8,400,000,000     August 2, 2012   \n",
       "\n",
       "                              Publisher(s)                     Genre(s)    Ref  \n",
       "0                          [Tencent Games]                       [MOBA]  [n 1]  \n",
       "1                                   [Mixi]  [Puzzle ,  RPG ,  Strategy]  [n 2]  \n",
       "2  [Tencent Games ,  Krafton ,  VNG Games]              [Battle royale]   [14]  \n",
       "3            [GungHo Online Entertainment]              [RPG ,  Puzzle]  [n 3]  \n",
       "4                    [Supercell (Tencent)]                   [Strategy]   [20]  "
      ]
     },
     "execution_count": 197,
     "metadata": {},
     "output_type": "execute_result"
    }
   ],
   "source": [
    "raw_df.head()"
   ]
  },
  {
   "cell_type": "markdown",
   "id": "f2e0f58a-edd0-4d9a-b58c-f31a72bb6fef",
   "metadata": {},
   "source": [
    "<div style=\"display:fill;\n",
    "           border-radius:5px;\n",
    "           background-color:#ffdbdb;;\n",
    "           font-family:Georgia;\">\n",
    "\n",
    "<p \n",
    "    <span style=\"padding: 6px;\n",
    "          color:#aa0c0c;\">\n",
    "📌 Use an autoencoder to split the columns into multiple column for each splited column.\n",
    "</p>\n",
    "</div>"
   ]
  },
  {
   "cell_type": "code",
   "execution_count": 198,
   "id": "1c3a32c3-fa78-49a8-8464-a4189bedf05f",
   "metadata": {
    "execution": {
     "iopub.execute_input": "2023-08-23T12:41:22.226474Z",
     "iopub.status.busy": "2023-08-23T12:41:22.225953Z",
     "iopub.status.idle": "2023-08-23T12:41:22.231224Z",
     "shell.execute_reply": "2023-08-23T12:41:22.230098Z",
     "shell.execute_reply.started": "2023-08-23T12:41:22.226434Z"
    }
   },
   "outputs": [],
   "source": [
    "from sklearn.preprocessing import MultiLabelBinarizer"
   ]
  },
  {
   "cell_type": "code",
   "execution_count": 199,
   "id": "058ea79e-1065-4ee8-ba3a-1b8722be079f",
   "metadata": {
    "execution": {
     "iopub.execute_input": "2023-08-23T12:41:22.650182Z",
     "iopub.status.busy": "2023-08-23T12:41:22.649489Z",
     "iopub.status.idle": "2023-08-23T12:41:22.671019Z",
     "shell.execute_reply": "2023-08-23T12:41:22.668125Z",
     "shell.execute_reply.started": "2023-08-23T12:41:22.650144Z"
    }
   },
   "outputs": [],
   "source": [
    "encoded_dfs = {}\n",
    "for col in COLUMNS_SPLIT:\n",
    "    binarizer = MultiLabelBinarizer()\n",
    "    encoded_df = pd.DataFrame(binarizer.fit_transform(raw_df[col]),\n",
    "                               columns=binarizer.classes_,\n",
    "                               index=raw_df[col].index)\n",
    "    encoded_dfs[col] = encoded_df"
   ]
  },
  {
   "cell_type": "code",
   "execution_count": 200,
   "id": "221ac7ed-bf8f-4028-b7b1-b2c9b1624995",
   "metadata": {
    "execution": {
     "iopub.execute_input": "2023-08-23T12:41:23.158861Z",
     "iopub.status.busy": "2023-08-23T12:41:23.158032Z",
     "iopub.status.idle": "2023-08-23T12:41:23.217963Z",
     "shell.execute_reply": "2023-08-23T12:41:23.215811Z",
     "shell.execute_reply.started": "2023-08-23T12:41:23.158797Z"
    },
    "scrolled": true
   },
   "outputs": [
    {
     "data": {
      "text/html": [
       "<div>\n",
       "<style scoped>\n",
       "    .dataframe tbody tr th:only-of-type {\n",
       "        vertical-align: middle;\n",
       "    }\n",
       "\n",
       "    .dataframe tbody tr th {\n",
       "        vertical-align: top;\n",
       "    }\n",
       "\n",
       "    .dataframe thead tr th {\n",
       "        text-align: left;\n",
       "    }\n",
       "</style>\n",
       "<table border=\"1\" class=\"dataframe\">\n",
       "  <thead>\n",
       "    <tr>\n",
       "      <th></th>\n",
       "      <th colspan=\"10\" halign=\"left\">Genre(s)</th>\n",
       "      <th>...</th>\n",
       "      <th colspan=\"10\" halign=\"left\">Publisher(s)</th>\n",
       "    </tr>\n",
       "    <tr>\n",
       "      <th></th>\n",
       "      <th>Adventure</th>\n",
       "      <th>Battle royale</th>\n",
       "      <th>Casino</th>\n",
       "      <th>Decoration</th>\n",
       "      <th>Hack &amp; slash</th>\n",
       "      <th>MMO</th>\n",
       "      <th>MMOR)</th>\n",
       "      <th>Puzzle</th>\n",
       "      <th>RPG</th>\n",
       "      <th>RPG</th>\n",
       "      <th>...</th>\n",
       "      <th>Scopely</th>\n",
       "      <th>Small Giant Games</th>\n",
       "      <th>Smilegate</th>\n",
       "      <th>Square Enix</th>\n",
       "      <th>Supercell (Tencent)</th>\n",
       "      <th>Tencent Games</th>\n",
       "      <th>Tencent Games</th>\n",
       "      <th>Topwar Studio</th>\n",
       "      <th>Yostar</th>\n",
       "      <th>miHoYo</th>\n",
       "    </tr>\n",
       "  </thead>\n",
       "  <tbody>\n",
       "    <tr>\n",
       "      <th>0</th>\n",
       "      <td>0</td>\n",
       "      <td>0</td>\n",
       "      <td>0</td>\n",
       "      <td>0</td>\n",
       "      <td>0</td>\n",
       "      <td>0</td>\n",
       "      <td>0</td>\n",
       "      <td>0</td>\n",
       "      <td>0</td>\n",
       "      <td>0</td>\n",
       "      <td>...</td>\n",
       "      <td>0</td>\n",
       "      <td>0</td>\n",
       "      <td>0</td>\n",
       "      <td>0</td>\n",
       "      <td>0</td>\n",
       "      <td>1</td>\n",
       "      <td>0</td>\n",
       "      <td>0</td>\n",
       "      <td>0</td>\n",
       "      <td>0</td>\n",
       "    </tr>\n",
       "    <tr>\n",
       "      <th>1</th>\n",
       "      <td>0</td>\n",
       "      <td>0</td>\n",
       "      <td>0</td>\n",
       "      <td>0</td>\n",
       "      <td>0</td>\n",
       "      <td>0</td>\n",
       "      <td>0</td>\n",
       "      <td>0</td>\n",
       "      <td>0</td>\n",
       "      <td>1</td>\n",
       "      <td>...</td>\n",
       "      <td>0</td>\n",
       "      <td>0</td>\n",
       "      <td>0</td>\n",
       "      <td>0</td>\n",
       "      <td>0</td>\n",
       "      <td>0</td>\n",
       "      <td>0</td>\n",
       "      <td>0</td>\n",
       "      <td>0</td>\n",
       "      <td>0</td>\n",
       "    </tr>\n",
       "    <tr>\n",
       "      <th>2</th>\n",
       "      <td>0</td>\n",
       "      <td>0</td>\n",
       "      <td>0</td>\n",
       "      <td>0</td>\n",
       "      <td>0</td>\n",
       "      <td>0</td>\n",
       "      <td>0</td>\n",
       "      <td>0</td>\n",
       "      <td>0</td>\n",
       "      <td>0</td>\n",
       "      <td>...</td>\n",
       "      <td>0</td>\n",
       "      <td>0</td>\n",
       "      <td>0</td>\n",
       "      <td>0</td>\n",
       "      <td>0</td>\n",
       "      <td>0</td>\n",
       "      <td>1</td>\n",
       "      <td>0</td>\n",
       "      <td>0</td>\n",
       "      <td>0</td>\n",
       "    </tr>\n",
       "    <tr>\n",
       "      <th>3</th>\n",
       "      <td>0</td>\n",
       "      <td>0</td>\n",
       "      <td>0</td>\n",
       "      <td>0</td>\n",
       "      <td>0</td>\n",
       "      <td>0</td>\n",
       "      <td>0</td>\n",
       "      <td>1</td>\n",
       "      <td>0</td>\n",
       "      <td>0</td>\n",
       "      <td>...</td>\n",
       "      <td>0</td>\n",
       "      <td>0</td>\n",
       "      <td>0</td>\n",
       "      <td>0</td>\n",
       "      <td>0</td>\n",
       "      <td>0</td>\n",
       "      <td>0</td>\n",
       "      <td>0</td>\n",
       "      <td>0</td>\n",
       "      <td>0</td>\n",
       "    </tr>\n",
       "    <tr>\n",
       "      <th>4</th>\n",
       "      <td>0</td>\n",
       "      <td>0</td>\n",
       "      <td>0</td>\n",
       "      <td>0</td>\n",
       "      <td>0</td>\n",
       "      <td>0</td>\n",
       "      <td>0</td>\n",
       "      <td>0</td>\n",
       "      <td>0</td>\n",
       "      <td>0</td>\n",
       "      <td>...</td>\n",
       "      <td>0</td>\n",
       "      <td>0</td>\n",
       "      <td>0</td>\n",
       "      <td>0</td>\n",
       "      <td>1</td>\n",
       "      <td>0</td>\n",
       "      <td>0</td>\n",
       "      <td>0</td>\n",
       "      <td>0</td>\n",
       "      <td>0</td>\n",
       "    </tr>\n",
       "  </tbody>\n",
       "</table>\n",
       "<p>5 rows × 145 columns</p>\n",
       "</div>"
      ],
      "text/plain": [
       "    Genre(s)                                                               \\\n",
       "   Adventure  Battle royale  Casino  Decoration  Hack & slash  MMO  MMOR)   \n",
       "0          0              0       0           0             0    0      0   \n",
       "1          0              0       0           0             0    0      0   \n",
       "2          0              0       0           0             0    0      0   \n",
       "3          0              0       0           0             0    0      0   \n",
       "4          0              0       0           0             0    0      0   \n",
       "\n",
       "                      ... Publisher(s)                               \\\n",
       "   Puzzle  RPG  RPG   ...     Scopely  Small Giant Games Smilegate    \n",
       "0       0    0     0  ...            0                 0          0   \n",
       "1       0    0     1  ...            0                 0          0   \n",
       "2       0    0     0  ...            0                 0          0   \n",
       "3       1    0     0  ...            0                 0          0   \n",
       "4       0    0     0  ...            0                 0          0   \n",
       "\n",
       "                                                                              \\\n",
       "  Square Enix Supercell (Tencent) Tencent Games Tencent Games  Topwar Studio   \n",
       "0           0                   0             1              0             0   \n",
       "1           0                   0             0              0             0   \n",
       "2           0                   0             0              1             0   \n",
       "3           0                   0             0              0             0   \n",
       "4           0                   1             0              0             0   \n",
       "\n",
       "                 \n",
       "  Yostar miHoYo  \n",
       "0      0      0  \n",
       "1      0      0  \n",
       "2      0      0  \n",
       "3      0      0  \n",
       "4      0      0  \n",
       "\n",
       "[5 rows x 145 columns]"
      ]
     },
     "execution_count": 200,
     "metadata": {},
     "output_type": "execute_result"
    }
   ],
   "source": [
    "# Merge 1-hot encoded \n",
    "hot_df = pd.concat(encoded_dfs, axis=1)\n",
    "hot_df.head()"
   ]
  },
  {
   "cell_type": "code",
   "execution_count": 201,
   "id": "86e84c2f-aa9e-402a-8538-29df1bf28f63",
   "metadata": {
    "execution": {
     "iopub.execute_input": "2023-08-23T12:41:24.075199Z",
     "iopub.status.busy": "2023-08-23T12:41:24.074816Z",
     "iopub.status.idle": "2023-08-23T12:41:24.082297Z",
     "shell.execute_reply": "2023-08-23T12:41:24.081084Z",
     "shell.execute_reply.started": "2023-08-23T12:41:24.075172Z"
    }
   },
   "outputs": [],
   "source": [
    "raw_df.drop(columns=['Ref','Genre(s)', 'Publisher(s)'],axis=1)\n",
    "concatenated_df = pd.concat([raw_df, hot_df], axis=1)"
   ]
  },
  {
   "cell_type": "code",
   "execution_count": 202,
   "id": "d072d1fb-b41f-4a15-9a5d-07453c5354f7",
   "metadata": {
    "execution": {
     "iopub.execute_input": "2023-08-23T12:41:25.184156Z",
     "iopub.status.busy": "2023-08-23T12:41:25.183668Z",
     "iopub.status.idle": "2023-08-23T12:41:25.194647Z",
     "shell.execute_reply": "2023-08-23T12:41:25.193808Z",
     "shell.execute_reply.started": "2023-08-23T12:41:25.184120Z"
    },
    "scrolled": true
   },
   "outputs": [
    {
     "data": {
      "text/plain": [
       "Index([                                 'Rank',\n",
       "                                  'Game title',\n",
       "                                     'Revenue',\n",
       "                             'Initial release',\n",
       "                                'Publisher(s)',\n",
       "                                    'Genre(s)',\n",
       "                                         'Ref',\n",
       "                    ('Genre(s)', ' Adventure'),\n",
       "                ('Genre(s)', ' Battle royale'),\n",
       "                       ('Genre(s)', ' Casino'),\n",
       "       ...\n",
       "                  ('Publisher(s)', 'Scopely '),\n",
       "         ('Publisher(s)', 'Small Giant Games'),\n",
       "                ('Publisher(s)', 'Smilegate '),\n",
       "               ('Publisher(s)', 'Square Enix'),\n",
       "       ('Publisher(s)', 'Supercell (Tencent)'),\n",
       "             ('Publisher(s)', 'Tencent Games'),\n",
       "            ('Publisher(s)', 'Tencent Games '),\n",
       "             ('Publisher(s)', 'Topwar Studio'),\n",
       "                    ('Publisher(s)', 'Yostar'),\n",
       "                    ('Publisher(s)', 'miHoYo')],\n",
       "      dtype='object', length=152)"
      ]
     },
     "execution_count": 202,
     "metadata": {},
     "output_type": "execute_result"
    }
   ],
   "source": [
    "concatenated_df.columns"
   ]
  },
  {
   "cell_type": "markdown",
   "id": "cd4cb856-e51d-4a90-8446-c327787bfcdd",
   "metadata": {
    "tags": []
   },
   "source": [
    "<h4 id=\"heading\"><span style=\"background-color:#fcf3b9; color:#3d3710 ; display:fill;border-radius:5px; font-family:Georgia\">📈📊📉 Visualization </span></h4>"
   ]
  },
  {
   "cell_type": "code",
   "execution_count": 203,
   "id": "d3dc27ea-91bd-4b02-8d32-1d65d61ef747",
   "metadata": {
    "execution": {
     "iopub.execute_input": "2023-08-23T12:41:30.650118Z",
     "iopub.status.busy": "2023-08-23T12:41:30.649462Z",
     "iopub.status.idle": "2023-08-23T12:41:30.667152Z",
     "shell.execute_reply": "2023-08-23T12:41:30.665800Z",
     "shell.execute_reply.started": "2023-08-23T12:41:30.650067Z"
    },
    "scrolled": true
   },
   "outputs": [
    {
     "name": "stdout",
     "output_type": "stream",
     "text": [
      " The number of genre title are: 60\n"
     ]
    },
    {
     "data": {
      "text/html": [
       "<div>\n",
       "<style scoped>\n",
       "    .dataframe tbody tr th:only-of-type {\n",
       "        vertical-align: middle;\n",
       "    }\n",
       "\n",
       "    .dataframe tbody tr th {\n",
       "        vertical-align: top;\n",
       "    }\n",
       "\n",
       "    .dataframe thead th {\n",
       "        text-align: right;\n",
       "    }\n",
       "</style>\n",
       "<table border=\"1\" class=\"dataframe\">\n",
       "  <thead>\n",
       "    <tr style=\"text-align: right;\">\n",
       "      <th></th>\n",
       "      <th>group</th>\n",
       "      <th>genre</th>\n",
       "      <th>frequency</th>\n",
       "    </tr>\n",
       "  </thead>\n",
       "  <tbody>\n",
       "    <tr>\n",
       "      <th>0</th>\n",
       "      <td>Genre(s)</td>\n",
       "      <td>Adventure</td>\n",
       "      <td>4</td>\n",
       "    </tr>\n",
       "    <tr>\n",
       "      <th>1</th>\n",
       "      <td>Genre(s)</td>\n",
       "      <td>Battle royale</td>\n",
       "      <td>4</td>\n",
       "    </tr>\n",
       "    <tr>\n",
       "      <th>2</th>\n",
       "      <td>Genre(s)</td>\n",
       "      <td>Casino</td>\n",
       "      <td>5</td>\n",
       "    </tr>\n",
       "    <tr>\n",
       "      <th>3</th>\n",
       "      <td>Genre(s)</td>\n",
       "      <td>Decoration</td>\n",
       "      <td>12</td>\n",
       "    </tr>\n",
       "    <tr>\n",
       "      <th>4</th>\n",
       "      <td>Genre(s)</td>\n",
       "      <td>Hack &amp; slash</td>\n",
       "      <td>4</td>\n",
       "    </tr>\n",
       "  </tbody>\n",
       "</table>\n",
       "</div>"
      ],
      "text/plain": [
       "      group           genre  frequency\n",
       "0  Genre(s)       Adventure          4\n",
       "1  Genre(s)   Battle royale          4\n",
       "2  Genre(s)          Casino          5\n",
       "3  Genre(s)      Decoration         12\n",
       "4  Genre(s)    Hack & slash          4"
      ]
     },
     "execution_count": 203,
     "metadata": {},
     "output_type": "execute_result"
    }
   ],
   "source": [
    "# Let extract the genres title and each frequency\n",
    "genre_freq = hot_df.drop('Publisher(s)', axis=1).sum().reset_index()\n",
    "genre_freq.columns=['group','genre','frequency']\n",
    "print(' The number of genre title are:',genre_freq.shape[0])\n",
    "genre_freq.head()"
   ]
  },
  {
   "cell_type": "code",
   "execution_count": 204,
   "id": "c470dc95-375a-4384-a8b0-a9d2f8694196",
   "metadata": {
    "execution": {
     "iopub.execute_input": "2023-08-23T12:41:31.252597Z",
     "iopub.status.busy": "2023-08-23T12:41:31.252104Z",
     "iopub.status.idle": "2023-08-23T12:41:31.267007Z",
     "shell.execute_reply": "2023-08-23T12:41:31.265973Z",
     "shell.execute_reply.started": "2023-08-23T12:41:31.252570Z"
    },
    "scrolled": true
   },
   "outputs": [
    {
     "name": "stdout",
     "output_type": "stream",
     "text": [
      " The number of publisher company are: 85\n"
     ]
    },
    {
     "data": {
      "text/html": [
       "<div>\n",
       "<style scoped>\n",
       "    .dataframe tbody tr th:only-of-type {\n",
       "        vertical-align: middle;\n",
       "    }\n",
       "\n",
       "    .dataframe tbody tr th {\n",
       "        vertical-align: top;\n",
       "    }\n",
       "\n",
       "    .dataframe thead th {\n",
       "        text-align: right;\n",
       "    }\n",
       "</style>\n",
       "<table border=\"1\" class=\"dataframe\">\n",
       "  <thead>\n",
       "    <tr style=\"text-align: right;\">\n",
       "      <th></th>\n",
       "      <th>group</th>\n",
       "      <th>publisher</th>\n",
       "      <th>frequency</th>\n",
       "    </tr>\n",
       "  </thead>\n",
       "  <tbody>\n",
       "    <tr>\n",
       "      <th>0</th>\n",
       "      <td>Publisher(s)</td>\n",
       "      <td>Alibaba Group</td>\n",
       "      <td>4</td>\n",
       "    </tr>\n",
       "    <tr>\n",
       "      <th>1</th>\n",
       "      <td>Publisher(s)</td>\n",
       "      <td>CBS Interactive</td>\n",
       "      <td>4</td>\n",
       "    </tr>\n",
       "    <tr>\n",
       "      <th>2</th>\n",
       "      <td>Publisher(s)</td>\n",
       "      <td>Dwango</td>\n",
       "      <td>4</td>\n",
       "    </tr>\n",
       "    <tr>\n",
       "      <th>3</th>\n",
       "      <td>Publisher(s)</td>\n",
       "      <td>Garena</td>\n",
       "      <td>8</td>\n",
       "    </tr>\n",
       "    <tr>\n",
       "      <th>4</th>\n",
       "      <td>Publisher(s)</td>\n",
       "      <td>Koei Tecmo</td>\n",
       "      <td>4</td>\n",
       "    </tr>\n",
       "  </tbody>\n",
       "</table>\n",
       "</div>"
      ],
      "text/plain": [
       "          group         publisher  frequency\n",
       "0  Publisher(s)     Alibaba Group          4\n",
       "1  Publisher(s)   CBS Interactive          4\n",
       "2  Publisher(s)            Dwango          4\n",
       "3  Publisher(s)            Garena          8\n",
       "4  Publisher(s)        Koei Tecmo          4"
      ]
     },
     "execution_count": 204,
     "metadata": {},
     "output_type": "execute_result"
    }
   ],
   "source": [
    "# Let extract the Publisher company and each frequency\n",
    "publisher_freq = hot_df.drop('Genre(s)', axis=1).sum().reset_index()\n",
    "publisher_freq.columns=['group','publisher','frequency']\n",
    "print(' The number of publisher company are:',publisher_freq.shape[0])\n",
    "publisher_freq.head()"
   ]
  },
  {
   "cell_type": "code",
   "execution_count": 205,
   "id": "8c466db4-9e38-43f8-acae-3fde0eaf1976",
   "metadata": {
    "execution": {
     "iopub.execute_input": "2023-08-23T12:41:31.907822Z",
     "iopub.status.busy": "2023-08-23T12:41:31.905695Z",
     "iopub.status.idle": "2023-08-23T12:41:32.218780Z",
     "shell.execute_reply": "2023-08-23T12:41:32.217372Z",
     "shell.execute_reply.started": "2023-08-23T12:41:31.907758Z"
    }
   },
   "outputs": [
    {
     "data": {
      "application/vnd.plotly.v1+json": {
       "config": {
        "plotlyServerURL": "https://plot.ly"
       },
       "data": [
        {
         "branchvalues": "total",
         "customdata": [
          [
           4
          ],
          [
           4
          ],
          [
           5
          ],
          [
           12
          ],
          [
           4
          ],
          [
           17
          ],
          [
           4
          ],
          [
           14
          ],
          [
           8
          ],
          [
           5
          ],
          [
           4
          ],
          [
           4
          ],
          [
           9
          ],
          [
           4
          ],
          [
           4
          ],
          [
           17
          ],
          [
           9
          ],
          [
           18
          ],
          [
           4
          ],
          [
           4
          ],
          [
           5
          ],
          [
           8
          ],
          [
           4
          ],
          [
           4
          ],
          [
           4
          ],
          [
           5
          ],
          [
           38
          ],
          [
           21
          ],
          [
           4
          ],
          [
           4
          ],
          [
           37
          ],
          [
           25
          ],
          [
           49
          ],
          [
           10
          ],
          [
           4
          ],
          [
           4
          ],
          [
           8
          ],
          [
           4
          ],
          [
           5
          ],
          [
           4
          ],
          [
           4
          ],
          [
           4
          ],
          [
           4
          ],
          [
           4
          ],
          [
           4
          ],
          [
           4
          ],
          [
           4
          ],
          [
           4
          ],
          [
           4
          ],
          [
           8
          ],
          [
           4
          ],
          [
           4
          ],
          [
           37
          ],
          [
           8
          ],
          [
           8
          ],
          [
           4
          ],
          [
           4
          ],
          [
           4
          ],
          [
           4
          ],
          [
           8
          ],
          [
           19.37735849056604
          ]
         ],
         "domain": {
          "x": [
           0,
           1
          ],
          "y": [
           0,
           1
          ]
         },
         "hovertemplate": "labels=%{label}<br>frequency_sum=%{value}<br>parent=%{parent}<br>id=%{id}<br>frequency=%{color}<extra></extra>",
         "ids": [
          "Genre(s)/ Adventure",
          "Genre(s)/ Battle royale",
          "Genre(s)/ Casino",
          "Genre(s)/ Decoration",
          "Genre(s)/ Hack & slash",
          "Genre(s)/ MMO",
          "Genre(s)/ MMOR)",
          "Genre(s)/ Puzzle",
          "Genre(s)/ RPG",
          "Genre(s)/ RPG ",
          "Genre(s)/ Rhythm",
          "Genre(s)/ Social",
          "Genre(s)/ Strategy",
          "Genre(s)/ Survival",
          "Genre(s)/ARPG ",
          "Genre(s)/Action RPG",
          "Genre(s)/Augmented reality",
          "Genre(s)/Battle royale",
          "Genre(s)/Board game",
          "Genre(s)/Board game (Mahjong)",
          "Genre(s)/Casual ",
          "Genre(s)/DCCG",
          "Genre(s)/DCCG ",
          "Genre(s)/Digital collectible card game",
          "Genre(s)/Fighting",
          "Genre(s)/GCS ",
          "Genre(s)/MMORPG",
          "Genre(s)/MOBA",
          "Genre(s)/Online Bingo",
          "Genre(s)/Physics ",
          "Genre(s)/Puzzle",
          "Genre(s)/Puzzle ",
          "Genre(s)/RPG",
          "Genre(s)/RPG ",
          "Genre(s)/Racing",
          "Genre(s)/Racing (Kart ",
          "Genre(s)/Racing (Kart)",
          "Genre(s)/Real Time Strategy",
          "Genre(s)/Real-time strategy",
          "Genre(s)/Rhythm ",
          "Genre(s)/Sandbox ",
          "Genre(s)/Shoot 'em up ",
          "Genre(s)/Shooter ",
          "Genre(s)/Simulation",
          "Genre(s)/Simulation ",
          "Genre(s)/Simulation (CMS)",
          "Genre(s)/Simulation (Slot)",
          "Genre(s)/Simulation (Social)",
          "Genre(s)/Sports (association football)",
          "Genre(s)/Sports (baseball)",
          "Genre(s)/Sports (basketball)",
          "Genre(s)/Sports (pool)",
          "Genre(s)/Strategy",
          "Genre(s)/Strategy ",
          "Genre(s)/Strategy (4X)",
          "Genre(s)/Strategy (auto battler)",
          "Genre(s)/Strategy MMORPG",
          "Genre(s)/TBS ",
          "Genre(s)/Tactical FPS",
          "Genre(s)/Tactical RPG",
          "Genre(s)"
         ],
         "labels": [
          " Adventure",
          " Battle royale",
          " Casino",
          " Decoration",
          " Hack & slash",
          " MMO",
          " MMOR)",
          " Puzzle",
          " RPG",
          " RPG ",
          " Rhythm",
          " Social",
          " Strategy",
          " Survival",
          "ARPG ",
          "Action RPG",
          "Augmented reality",
          "Battle royale",
          "Board game",
          "Board game (Mahjong)",
          "Casual ",
          "DCCG",
          "DCCG ",
          "Digital collectible card game",
          "Fighting",
          "GCS ",
          "MMORPG",
          "MOBA",
          "Online Bingo",
          "Physics ",
          "Puzzle",
          "Puzzle ",
          "RPG",
          "RPG ",
          "Racing",
          "Racing (Kart ",
          "Racing (Kart)",
          "Real Time Strategy",
          "Real-time strategy",
          "Rhythm ",
          "Sandbox ",
          "Shoot 'em up ",
          "Shooter ",
          "Simulation",
          "Simulation ",
          "Simulation (CMS)",
          "Simulation (Slot)",
          "Simulation (Social)",
          "Sports (association football)",
          "Sports (baseball)",
          "Sports (basketball)",
          "Sports (pool)",
          "Strategy",
          "Strategy ",
          "Strategy (4X)",
          "Strategy (auto battler)",
          "Strategy MMORPG",
          "TBS ",
          "Tactical FPS",
          "Tactical RPG",
          "Genre(s)"
         ],
         "level": "Genre(s)",
         "marker": {
          "coloraxis": "coloraxis",
          "colors": [
           4,
           4,
           5,
           12,
           4,
           17,
           4,
           14,
           8,
           5,
           4,
           4,
           9,
           4,
           4,
           17,
           9,
           18,
           4,
           4,
           5,
           8,
           4,
           4,
           4,
           5,
           38,
           21,
           4,
           4,
           37,
           25,
           49,
           10,
           4,
           4,
           8,
           4,
           5,
           4,
           4,
           4,
           4,
           4,
           4,
           4,
           4,
           4,
           4,
           8,
           4,
           4,
           37,
           8,
           8,
           4,
           4,
           4,
           4,
           8,
           19.37735849056604
          ]
         },
         "name": "",
         "parents": [
          "Genre(s)",
          "Genre(s)",
          "Genre(s)",
          "Genre(s)",
          "Genre(s)",
          "Genre(s)",
          "Genre(s)",
          "Genre(s)",
          "Genre(s)",
          "Genre(s)",
          "Genre(s)",
          "Genre(s)",
          "Genre(s)",
          "Genre(s)",
          "Genre(s)",
          "Genre(s)",
          "Genre(s)",
          "Genre(s)",
          "Genre(s)",
          "Genre(s)",
          "Genre(s)",
          "Genre(s)",
          "Genre(s)",
          "Genre(s)",
          "Genre(s)",
          "Genre(s)",
          "Genre(s)",
          "Genre(s)",
          "Genre(s)",
          "Genre(s)",
          "Genre(s)",
          "Genre(s)",
          "Genre(s)",
          "Genre(s)",
          "Genre(s)",
          "Genre(s)",
          "Genre(s)",
          "Genre(s)",
          "Genre(s)",
          "Genre(s)",
          "Genre(s)",
          "Genre(s)",
          "Genre(s)",
          "Genre(s)",
          "Genre(s)",
          "Genre(s)",
          "Genre(s)",
          "Genre(s)",
          "Genre(s)",
          "Genre(s)",
          "Genre(s)",
          "Genre(s)",
          "Genre(s)",
          "Genre(s)",
          "Genre(s)",
          "Genre(s)",
          "Genre(s)",
          "Genre(s)",
          "Genre(s)",
          "Genre(s)",
          ""
         ],
         "type": "treemap",
         "values": [
          4,
          4,
          5,
          12,
          4,
          17,
          4,
          14,
          8,
          5,
          4,
          4,
          9,
          4,
          4,
          17,
          9,
          18,
          4,
          4,
          5,
          8,
          4,
          4,
          4,
          5,
          38,
          21,
          4,
          4,
          37,
          25,
          49,
          10,
          4,
          4,
          8,
          4,
          5,
          4,
          4,
          4,
          4,
          4,
          4,
          4,
          4,
          4,
          4,
          8,
          4,
          4,
          37,
          8,
          8,
          4,
          4,
          4,
          4,
          8,
          530
         ]
        }
       ],
       "layout": {
        "coloraxis": {
         "colorbar": {
          "title": {
           "text": "frequency"
          }
         },
         "colorscale": [
          [
           0,
           "rgb(253, 253, 204)"
          ],
          [
           0.09090909090909091,
           "rgb(206, 236, 179)"
          ],
          [
           0.18181818181818182,
           "rgb(156, 219, 165)"
          ],
          [
           0.2727272727272727,
           "rgb(111, 201, 163)"
          ],
          [
           0.36363636363636365,
           "rgb(86, 177, 163)"
          ],
          [
           0.45454545454545453,
           "rgb(76, 153, 160)"
          ],
          [
           0.5454545454545454,
           "rgb(68, 130, 155)"
          ],
          [
           0.6363636363636364,
           "rgb(62, 108, 150)"
          ],
          [
           0.7272727272727273,
           "rgb(62, 82, 143)"
          ],
          [
           0.8181818181818182,
           "rgb(64, 60, 115)"
          ],
          [
           0.9090909090909091,
           "rgb(54, 43, 77)"
          ],
          [
           1,
           "rgb(39, 26, 44)"
          ]
         ]
        },
        "height": 700,
        "legend": {
         "tracegroupgap": 0
        },
        "margin": {
         "t": 60
        },
        "template": {
         "data": {
          "bar": [
           {
            "error_x": {
             "color": "#2a3f5f"
            },
            "error_y": {
             "color": "#2a3f5f"
            },
            "marker": {
             "line": {
              "color": "#E5ECF6",
              "width": 0.5
             },
             "pattern": {
              "fillmode": "overlay",
              "size": 10,
              "solidity": 0.2
             }
            },
            "type": "bar"
           }
          ],
          "barpolar": [
           {
            "marker": {
             "line": {
              "color": "#E5ECF6",
              "width": 0.5
             },
             "pattern": {
              "fillmode": "overlay",
              "size": 10,
              "solidity": 0.2
             }
            },
            "type": "barpolar"
           }
          ],
          "carpet": [
           {
            "aaxis": {
             "endlinecolor": "#2a3f5f",
             "gridcolor": "white",
             "linecolor": "white",
             "minorgridcolor": "white",
             "startlinecolor": "#2a3f5f"
            },
            "baxis": {
             "endlinecolor": "#2a3f5f",
             "gridcolor": "white",
             "linecolor": "white",
             "minorgridcolor": "white",
             "startlinecolor": "#2a3f5f"
            },
            "type": "carpet"
           }
          ],
          "choropleth": [
           {
            "colorbar": {
             "outlinewidth": 0,
             "ticks": ""
            },
            "type": "choropleth"
           }
          ],
          "contour": [
           {
            "colorbar": {
             "outlinewidth": 0,
             "ticks": ""
            },
            "colorscale": [
             [
              0,
              "#0d0887"
             ],
             [
              0.1111111111111111,
              "#46039f"
             ],
             [
              0.2222222222222222,
              "#7201a8"
             ],
             [
              0.3333333333333333,
              "#9c179e"
             ],
             [
              0.4444444444444444,
              "#bd3786"
             ],
             [
              0.5555555555555556,
              "#d8576b"
             ],
             [
              0.6666666666666666,
              "#ed7953"
             ],
             [
              0.7777777777777778,
              "#fb9f3a"
             ],
             [
              0.8888888888888888,
              "#fdca26"
             ],
             [
              1,
              "#f0f921"
             ]
            ],
            "type": "contour"
           }
          ],
          "contourcarpet": [
           {
            "colorbar": {
             "outlinewidth": 0,
             "ticks": ""
            },
            "type": "contourcarpet"
           }
          ],
          "heatmap": [
           {
            "colorbar": {
             "outlinewidth": 0,
             "ticks": ""
            },
            "colorscale": [
             [
              0,
              "#0d0887"
             ],
             [
              0.1111111111111111,
              "#46039f"
             ],
             [
              0.2222222222222222,
              "#7201a8"
             ],
             [
              0.3333333333333333,
              "#9c179e"
             ],
             [
              0.4444444444444444,
              "#bd3786"
             ],
             [
              0.5555555555555556,
              "#d8576b"
             ],
             [
              0.6666666666666666,
              "#ed7953"
             ],
             [
              0.7777777777777778,
              "#fb9f3a"
             ],
             [
              0.8888888888888888,
              "#fdca26"
             ],
             [
              1,
              "#f0f921"
             ]
            ],
            "type": "heatmap"
           }
          ],
          "heatmapgl": [
           {
            "colorbar": {
             "outlinewidth": 0,
             "ticks": ""
            },
            "colorscale": [
             [
              0,
              "#0d0887"
             ],
             [
              0.1111111111111111,
              "#46039f"
             ],
             [
              0.2222222222222222,
              "#7201a8"
             ],
             [
              0.3333333333333333,
              "#9c179e"
             ],
             [
              0.4444444444444444,
              "#bd3786"
             ],
             [
              0.5555555555555556,
              "#d8576b"
             ],
             [
              0.6666666666666666,
              "#ed7953"
             ],
             [
              0.7777777777777778,
              "#fb9f3a"
             ],
             [
              0.8888888888888888,
              "#fdca26"
             ],
             [
              1,
              "#f0f921"
             ]
            ],
            "type": "heatmapgl"
           }
          ],
          "histogram": [
           {
            "marker": {
             "pattern": {
              "fillmode": "overlay",
              "size": 10,
              "solidity": 0.2
             }
            },
            "type": "histogram"
           }
          ],
          "histogram2d": [
           {
            "colorbar": {
             "outlinewidth": 0,
             "ticks": ""
            },
            "colorscale": [
             [
              0,
              "#0d0887"
             ],
             [
              0.1111111111111111,
              "#46039f"
             ],
             [
              0.2222222222222222,
              "#7201a8"
             ],
             [
              0.3333333333333333,
              "#9c179e"
             ],
             [
              0.4444444444444444,
              "#bd3786"
             ],
             [
              0.5555555555555556,
              "#d8576b"
             ],
             [
              0.6666666666666666,
              "#ed7953"
             ],
             [
              0.7777777777777778,
              "#fb9f3a"
             ],
             [
              0.8888888888888888,
              "#fdca26"
             ],
             [
              1,
              "#f0f921"
             ]
            ],
            "type": "histogram2d"
           }
          ],
          "histogram2dcontour": [
           {
            "colorbar": {
             "outlinewidth": 0,
             "ticks": ""
            },
            "colorscale": [
             [
              0,
              "#0d0887"
             ],
             [
              0.1111111111111111,
              "#46039f"
             ],
             [
              0.2222222222222222,
              "#7201a8"
             ],
             [
              0.3333333333333333,
              "#9c179e"
             ],
             [
              0.4444444444444444,
              "#bd3786"
             ],
             [
              0.5555555555555556,
              "#d8576b"
             ],
             [
              0.6666666666666666,
              "#ed7953"
             ],
             [
              0.7777777777777778,
              "#fb9f3a"
             ],
             [
              0.8888888888888888,
              "#fdca26"
             ],
             [
              1,
              "#f0f921"
             ]
            ],
            "type": "histogram2dcontour"
           }
          ],
          "mesh3d": [
           {
            "colorbar": {
             "outlinewidth": 0,
             "ticks": ""
            },
            "type": "mesh3d"
           }
          ],
          "parcoords": [
           {
            "line": {
             "colorbar": {
              "outlinewidth": 0,
              "ticks": ""
             }
            },
            "type": "parcoords"
           }
          ],
          "pie": [
           {
            "automargin": true,
            "type": "pie"
           }
          ],
          "scatter": [
           {
            "fillpattern": {
             "fillmode": "overlay",
             "size": 10,
             "solidity": 0.2
            },
            "type": "scatter"
           }
          ],
          "scatter3d": [
           {
            "line": {
             "colorbar": {
              "outlinewidth": 0,
              "ticks": ""
             }
            },
            "marker": {
             "colorbar": {
              "outlinewidth": 0,
              "ticks": ""
             }
            },
            "type": "scatter3d"
           }
          ],
          "scattercarpet": [
           {
            "marker": {
             "colorbar": {
              "outlinewidth": 0,
              "ticks": ""
             }
            },
            "type": "scattercarpet"
           }
          ],
          "scattergeo": [
           {
            "marker": {
             "colorbar": {
              "outlinewidth": 0,
              "ticks": ""
             }
            },
            "type": "scattergeo"
           }
          ],
          "scattergl": [
           {
            "marker": {
             "colorbar": {
              "outlinewidth": 0,
              "ticks": ""
             }
            },
            "type": "scattergl"
           }
          ],
          "scattermapbox": [
           {
            "marker": {
             "colorbar": {
              "outlinewidth": 0,
              "ticks": ""
             }
            },
            "type": "scattermapbox"
           }
          ],
          "scatterpolar": [
           {
            "marker": {
             "colorbar": {
              "outlinewidth": 0,
              "ticks": ""
             }
            },
            "type": "scatterpolar"
           }
          ],
          "scatterpolargl": [
           {
            "marker": {
             "colorbar": {
              "outlinewidth": 0,
              "ticks": ""
             }
            },
            "type": "scatterpolargl"
           }
          ],
          "scatterternary": [
           {
            "marker": {
             "colorbar": {
              "outlinewidth": 0,
              "ticks": ""
             }
            },
            "type": "scatterternary"
           }
          ],
          "surface": [
           {
            "colorbar": {
             "outlinewidth": 0,
             "ticks": ""
            },
            "colorscale": [
             [
              0,
              "#0d0887"
             ],
             [
              0.1111111111111111,
              "#46039f"
             ],
             [
              0.2222222222222222,
              "#7201a8"
             ],
             [
              0.3333333333333333,
              "#9c179e"
             ],
             [
              0.4444444444444444,
              "#bd3786"
             ],
             [
              0.5555555555555556,
              "#d8576b"
             ],
             [
              0.6666666666666666,
              "#ed7953"
             ],
             [
              0.7777777777777778,
              "#fb9f3a"
             ],
             [
              0.8888888888888888,
              "#fdca26"
             ],
             [
              1,
              "#f0f921"
             ]
            ],
            "type": "surface"
           }
          ],
          "table": [
           {
            "cells": {
             "fill": {
              "color": "#EBF0F8"
             },
             "line": {
              "color": "white"
             }
            },
            "header": {
             "fill": {
              "color": "#C8D4E3"
             },
             "line": {
              "color": "white"
             }
            },
            "type": "table"
           }
          ]
         },
         "layout": {
          "annotationdefaults": {
           "arrowcolor": "#2a3f5f",
           "arrowhead": 0,
           "arrowwidth": 1
          },
          "autotypenumbers": "strict",
          "coloraxis": {
           "colorbar": {
            "outlinewidth": 0,
            "ticks": ""
           }
          },
          "colorscale": {
           "diverging": [
            [
             0,
             "#8e0152"
            ],
            [
             0.1,
             "#c51b7d"
            ],
            [
             0.2,
             "#de77ae"
            ],
            [
             0.3,
             "#f1b6da"
            ],
            [
             0.4,
             "#fde0ef"
            ],
            [
             0.5,
             "#f7f7f7"
            ],
            [
             0.6,
             "#e6f5d0"
            ],
            [
             0.7,
             "#b8e186"
            ],
            [
             0.8,
             "#7fbc41"
            ],
            [
             0.9,
             "#4d9221"
            ],
            [
             1,
             "#276419"
            ]
           ],
           "sequential": [
            [
             0,
             "#0d0887"
            ],
            [
             0.1111111111111111,
             "#46039f"
            ],
            [
             0.2222222222222222,
             "#7201a8"
            ],
            [
             0.3333333333333333,
             "#9c179e"
            ],
            [
             0.4444444444444444,
             "#bd3786"
            ],
            [
             0.5555555555555556,
             "#d8576b"
            ],
            [
             0.6666666666666666,
             "#ed7953"
            ],
            [
             0.7777777777777778,
             "#fb9f3a"
            ],
            [
             0.8888888888888888,
             "#fdca26"
            ],
            [
             1,
             "#f0f921"
            ]
           ],
           "sequentialminus": [
            [
             0,
             "#0d0887"
            ],
            [
             0.1111111111111111,
             "#46039f"
            ],
            [
             0.2222222222222222,
             "#7201a8"
            ],
            [
             0.3333333333333333,
             "#9c179e"
            ],
            [
             0.4444444444444444,
             "#bd3786"
            ],
            [
             0.5555555555555556,
             "#d8576b"
            ],
            [
             0.6666666666666666,
             "#ed7953"
            ],
            [
             0.7777777777777778,
             "#fb9f3a"
            ],
            [
             0.8888888888888888,
             "#fdca26"
            ],
            [
             1,
             "#f0f921"
            ]
           ]
          },
          "colorway": [
           "#636efa",
           "#EF553B",
           "#00cc96",
           "#ab63fa",
           "#FFA15A",
           "#19d3f3",
           "#FF6692",
           "#B6E880",
           "#FF97FF",
           "#FECB52"
          ],
          "font": {
           "color": "#2a3f5f"
          },
          "geo": {
           "bgcolor": "white",
           "lakecolor": "white",
           "landcolor": "#E5ECF6",
           "showlakes": true,
           "showland": true,
           "subunitcolor": "white"
          },
          "hoverlabel": {
           "align": "left"
          },
          "hovermode": "closest",
          "mapbox": {
           "style": "light"
          },
          "paper_bgcolor": "white",
          "plot_bgcolor": "#E5ECF6",
          "polar": {
           "angularaxis": {
            "gridcolor": "white",
            "linecolor": "white",
            "ticks": ""
           },
           "bgcolor": "#E5ECF6",
           "radialaxis": {
            "gridcolor": "white",
            "linecolor": "white",
            "ticks": ""
           }
          },
          "scene": {
           "xaxis": {
            "backgroundcolor": "#E5ECF6",
            "gridcolor": "white",
            "gridwidth": 2,
            "linecolor": "white",
            "showbackground": true,
            "ticks": "",
            "zerolinecolor": "white"
           },
           "yaxis": {
            "backgroundcolor": "#E5ECF6",
            "gridcolor": "white",
            "gridwidth": 2,
            "linecolor": "white",
            "showbackground": true,
            "ticks": "",
            "zerolinecolor": "white"
           },
           "zaxis": {
            "backgroundcolor": "#E5ECF6",
            "gridcolor": "white",
            "gridwidth": 2,
            "linecolor": "white",
            "showbackground": true,
            "ticks": "",
            "zerolinecolor": "white"
           }
          },
          "shapedefaults": {
           "line": {
            "color": "#2a3f5f"
           }
          },
          "ternary": {
           "aaxis": {
            "gridcolor": "white",
            "linecolor": "white",
            "ticks": ""
           },
           "baxis": {
            "gridcolor": "white",
            "linecolor": "white",
            "ticks": ""
           },
           "bgcolor": "#E5ECF6",
           "caxis": {
            "gridcolor": "white",
            "linecolor": "white",
            "ticks": ""
           }
          },
          "title": {
           "x": 0.05
          },
          "xaxis": {
           "automargin": true,
           "gridcolor": "white",
           "linecolor": "white",
           "ticks": "",
           "title": {
            "standoff": 15
           },
           "zerolinecolor": "white",
           "zerolinewidth": 2
          },
          "yaxis": {
           "automargin": true,
           "gridcolor": "white",
           "linecolor": "white",
           "ticks": "",
           "title": {
            "standoff": 15
           },
           "zerolinecolor": "white",
           "zerolinewidth": 2
          }
         }
        },
        "width": 900
       }
      },
      "image/png": "[encoded data removed]",
      "text/html": [
       "<div>                            <div id=\"38626031-9e34-44d0-9f8f-f58272d0aefd\" class=\"plotly-graph-div\" style=\"height:700px; width:900px;\"></div>            <script type=\"text/javascript\">                require([\"plotly\"], function(Plotly) {                    window.PLOTLYENV=window.PLOTLYENV || {};                                    if (document.getElementById(\"38626031-9e34-44d0-9f8f-f58272d0aefd\")) {                    Plotly.newPlot(                        \"38626031-9e34-44d0-9f8f-f58272d0aefd\",                        [{\"branchvalues\":\"total\",\"customdata\":[[4.0],[4.0],[5.0],[12.0],[4.0],[17.0],[4.0],[14.0],[8.0],[5.0],[4.0],[4.0],[9.0],[4.0],[4.0],[17.0],[9.0],[18.0],[4.0],[4.0],[5.0],[8.0],[4.0],[4.0],[4.0],[5.0],[38.0],[21.0],[4.0],[4.0],[37.0],[25.0],[49.0],[10.0],[4.0],[4.0],[8.0],[4.0],[5.0],[4.0],[4.0],[4.0],[4.0],[4.0],[4.0],[4.0],[4.0],[4.0],[4.0],[8.0],[4.0],[4.0],[37.0],[8.0],[8.0],[4.0],[4.0],[4.0],[4.0],[8.0],[19.37735849056604]],\"domain\":{\"x\":[0.0,1.0],\"y\":[0.0,1.0]},\"hovertemplate\":\"labels=%{label}\\u003cbr\\u003efrequency_sum=%{value}\\u003cbr\\u003eparent=%{parent}\\u003cbr\\u003eid=%{id}\\u003cbr\\u003efrequency=%{color}\\u003cextra\\u003e\\u003c\\u002fextra\\u003e\",\"ids\":[\"Genre(s)\\u002f Adventure\",\"Genre(s)\\u002f Battle royale\",\"Genre(s)\\u002f Casino\",\"Genre(s)\\u002f Decoration\",\"Genre(s)\\u002f Hack & slash\",\"Genre(s)\\u002f MMO\",\"Genre(s)\\u002f MMOR)\",\"Genre(s)\\u002f Puzzle\",\"Genre(s)\\u002f RPG\",\"Genre(s)\\u002f RPG \",\"Genre(s)\\u002f Rhythm\",\"Genre(s)\\u002f Social\",\"Genre(s)\\u002f Strategy\",\"Genre(s)\\u002f Survival\",\"Genre(s)\\u002fARPG \",\"Genre(s)\\u002fAction RPG\",\"Genre(s)\\u002fAugmented reality\",\"Genre(s)\\u002fBattle royale\",\"Genre(s)\\u002fBoard game\",\"Genre(s)\\u002fBoard game (Mahjong)\",\"Genre(s)\\u002fCasual \",\"Genre(s)\\u002fDCCG\",\"Genre(s)\\u002fDCCG \",\"Genre(s)\\u002fDigital collectible card game\",\"Genre(s)\\u002fFighting\",\"Genre(s)\\u002fGCS \",\"Genre(s)\\u002fMMORPG\",\"Genre(s)\\u002fMOBA\",\"Genre(s)\\u002fOnline Bingo\",\"Genre(s)\\u002fPhysics \",\"Genre(s)\\u002fPuzzle\",\"Genre(s)\\u002fPuzzle \",\"Genre(s)\\u002fRPG\",\"Genre(s)\\u002fRPG \",\"Genre(s)\\u002fRacing\",\"Genre(s)\\u002fRacing (Kart \",\"Genre(s)\\u002fRacing (Kart)\",\"Genre(s)\\u002fReal Time Strategy\",\"Genre(s)\\u002fReal-time strategy\",\"Genre(s)\\u002fRhythm \",\"Genre(s)\\u002fSandbox \",\"Genre(s)\\u002fShoot 'em up \",\"Genre(s)\\u002fShooter \",\"Genre(s)\\u002fSimulation\",\"Genre(s)\\u002fSimulation \",\"Genre(s)\\u002fSimulation (CMS)\",\"Genre(s)\\u002fSimulation (Slot)\",\"Genre(s)\\u002fSimulation (Social)\",\"Genre(s)\\u002fSports (association football)\",\"Genre(s)\\u002fSports (baseball)\",\"Genre(s)\\u002fSports (basketball)\",\"Genre(s)\\u002fSports (pool)\",\"Genre(s)\\u002fStrategy\",\"Genre(s)\\u002fStrategy \",\"Genre(s)\\u002fStrategy (4X)\",\"Genre(s)\\u002fStrategy (auto battler)\",\"Genre(s)\\u002fStrategy MMORPG\",\"Genre(s)\\u002fTBS \",\"Genre(s)\\u002fTactical FPS\",\"Genre(s)\\u002fTactical RPG\",\"Genre(s)\"],\"labels\":[\" Adventure\",\" Battle royale\",\" Casino\",\" Decoration\",\" Hack & slash\",\" MMO\",\" MMOR)\",\" Puzzle\",\" RPG\",\" RPG \",\" Rhythm\",\" Social\",\" Strategy\",\" Survival\",\"ARPG \",\"Action RPG\",\"Augmented reality\",\"Battle royale\",\"Board game\",\"Board game (Mahjong)\",\"Casual \",\"DCCG\",\"DCCG \",\"Digital collectible card game\",\"Fighting\",\"GCS \",\"MMORPG\",\"MOBA\",\"Online Bingo\",\"Physics \",\"Puzzle\",\"Puzzle \",\"RPG\",\"RPG \",\"Racing\",\"Racing (Kart \",\"Racing (Kart)\",\"Real Time Strategy\",\"Real-time strategy\",\"Rhythm \",\"Sandbox \",\"Shoot 'em up \",\"Shooter \",\"Simulation\",\"Simulation \",\"Simulation (CMS)\",\"Simulation (Slot)\",\"Simulation (Social)\",\"Sports (association football)\",\"Sports (baseball)\",\"Sports (basketball)\",\"Sports (pool)\",\"Strategy\",\"Strategy \",\"Strategy (4X)\",\"Strategy (auto battler)\",\"Strategy MMORPG\",\"TBS \",\"Tactical FPS\",\"Tactical RPG\",\"Genre(s)\"],\"marker\":{\"coloraxis\":\"coloraxis\",\"colors\":[4.0,4.0,5.0,12.0,4.0,17.0,4.0,14.0,8.0,5.0,4.0,4.0,9.0,4.0,4.0,17.0,9.0,18.0,4.0,4.0,5.0,8.0,4.0,4.0,4.0,5.0,38.0,21.0,4.0,4.0,37.0,25.0,49.0,10.0,4.0,4.0,8.0,4.0,5.0,4.0,4.0,4.0,4.0,4.0,4.0,4.0,4.0,4.0,4.0,8.0,4.0,4.0,37.0,8.0,8.0,4.0,4.0,4.0,4.0,8.0,19.37735849056604]},\"name\":\"\",\"parents\":[\"Genre(s)\",\"Genre(s)\",\"Genre(s)\",\"Genre(s)\",\"Genre(s)\",\"Genre(s)\",\"Genre(s)\",\"Genre(s)\",\"Genre(s)\",\"Genre(s)\",\"Genre(s)\",\"Genre(s)\",\"Genre(s)\",\"Genre(s)\",\"Genre(s)\",\"Genre(s)\",\"Genre(s)\",\"Genre(s)\",\"Genre(s)\",\"Genre(s)\",\"Genre(s)\",\"Genre(s)\",\"Genre(s)\",\"Genre(s)\",\"Genre(s)\",\"Genre(s)\",\"Genre(s)\",\"Genre(s)\",\"Genre(s)\",\"Genre(s)\",\"Genre(s)\",\"Genre(s)\",\"Genre(s)\",\"Genre(s)\",\"Genre(s)\",\"Genre(s)\",\"Genre(s)\",\"Genre(s)\",\"Genre(s)\",\"Genre(s)\",\"Genre(s)\",\"Genre(s)\",\"Genre(s)\",\"Genre(s)\",\"Genre(s)\",\"Genre(s)\",\"Genre(s)\",\"Genre(s)\",\"Genre(s)\",\"Genre(s)\",\"Genre(s)\",\"Genre(s)\",\"Genre(s)\",\"Genre(s)\",\"Genre(s)\",\"Genre(s)\",\"Genre(s)\",\"Genre(s)\",\"Genre(s)\",\"Genre(s)\",\"\"],\"values\":[4,4,5,12,4,17,4,14,8,5,4,4,9,4,4,17,9,18,4,4,5,8,4,4,4,5,38,21,4,4,37,25,49,10,4,4,8,4,5,4,4,4,4,4,4,4,4,4,4,8,4,4,37,8,8,4,4,4,4,8,530],\"type\":\"treemap\"}],                        {\"template\":{\"data\":{\"histogram2dcontour\":[{\"type\":\"histogram2dcontour\",\"colorbar\":{\"outlinewidth\":0,\"ticks\":\"\"},\"colorscale\":[[0.0,\"#0d0887\"],[0.1111111111111111,\"#46039f\"],[0.2222222222222222,\"#7201a8\"],[0.3333333333333333,\"#9c179e\"],[0.4444444444444444,\"#bd3786\"],[0.5555555555555556,\"#d8576b\"],[0.6666666666666666,\"#ed7953\"],[0.7777777777777778,\"#fb9f3a\"],[0.8888888888888888,\"#fdca26\"],[1.0,\"#f0f921\"]]}],\"choropleth\":[{\"type\":\"choropleth\",\"colorbar\":{\"outlinewidth\":0,\"ticks\":\"\"}}],\"histogram2d\":[{\"type\":\"histogram2d\",\"colorbar\":{\"outlinewidth\":0,\"ticks\":\"\"},\"colorscale\":[[0.0,\"#0d0887\"],[0.1111111111111111,\"#46039f\"],[0.2222222222222222,\"#7201a8\"],[0.3333333333333333,\"#9c179e\"],[0.4444444444444444,\"#bd3786\"],[0.5555555555555556,\"#d8576b\"],[0.6666666666666666,\"#ed7953\"],[0.7777777777777778,\"#fb9f3a\"],[0.8888888888888888,\"#fdca26\"],[1.0,\"#f0f921\"]]}],\"heatmap\":[{\"type\":\"heatmap\",\"colorbar\":{\"outlinewidth\":0,\"ticks\":\"\"},\"colorscale\":[[0.0,\"#0d0887\"],[0.1111111111111111,\"#46039f\"],[0.2222222222222222,\"#7201a8\"],[0.3333333333333333,\"#9c179e\"],[0.4444444444444444,\"#bd3786\"],[0.5555555555555556,\"#d8576b\"],[0.6666666666666666,\"#ed7953\"],[0.7777777777777778,\"#fb9f3a\"],[0.8888888888888888,\"#fdca26\"],[1.0,\"#f0f921\"]]}],\"heatmapgl\":[{\"type\":\"heatmapgl\",\"colorbar\":{\"outlinewidth\":0,\"ticks\":\"\"},\"colorscale\":[[0.0,\"#0d0887\"],[0.1111111111111111,\"#46039f\"],[0.2222222222222222,\"#7201a8\"],[0.3333333333333333,\"#9c179e\"],[0.4444444444444444,\"#bd3786\"],[0.5555555555555556,\"#d8576b\"],[0.6666666666666666,\"#ed7953\"],[0.7777777777777778,\"#fb9f3a\"],[0.8888888888888888,\"#fdca26\"],[1.0,\"#f0f921\"]]}],\"contourcarpet\":[{\"type\":\"contourcarpet\",\"colorbar\":{\"outlinewidth\":0,\"ticks\":\"\"}}],\"contour\":[{\"type\":\"contour\",\"colorbar\":{\"outlinewidth\":0,\"ticks\":\"\"},\"colorscale\":[[0.0,\"#0d0887\"],[0.1111111111111111,\"#46039f\"],[0.2222222222222222,\"#7201a8\"],[0.3333333333333333,\"#9c179e\"],[0.4444444444444444,\"#bd3786\"],[0.5555555555555556,\"#d8576b\"],[0.6666666666666666,\"#ed7953\"],[0.7777777777777778,\"#fb9f3a\"],[0.8888888888888888,\"#fdca26\"],[1.0,\"#f0f921\"]]}],\"surface\":[{\"type\":\"surface\",\"colorbar\":{\"outlinewidth\":0,\"ticks\":\"\"},\"colorscale\":[[0.0,\"#0d0887\"],[0.1111111111111111,\"#46039f\"],[0.2222222222222222,\"#7201a8\"],[0.3333333333333333,\"#9c179e\"],[0.4444444444444444,\"#bd3786\"],[0.5555555555555556,\"#d8576b\"],[0.6666666666666666,\"#ed7953\"],[0.7777777777777778,\"#fb9f3a\"],[0.8888888888888888,\"#fdca26\"],[1.0,\"#f0f921\"]]}],\"mesh3d\":[{\"type\":\"mesh3d\",\"colorbar\":{\"outlinewidth\":0,\"ticks\":\"\"}}],\"scatter\":[{\"fillpattern\":{\"fillmode\":\"overlay\",\"size\":10,\"solidity\":0.2},\"type\":\"scatter\"}],\"parcoords\":[{\"type\":\"parcoords\",\"line\":{\"colorbar\":{\"outlinewidth\":0,\"ticks\":\"\"}}}],\"scatterpolargl\":[{\"type\":\"scatterpolargl\",\"marker\":{\"colorbar\":{\"outlinewidth\":0,\"ticks\":\"\"}}}],\"bar\":[{\"error_x\":{\"color\":\"#2a3f5f\"},\"error_y\":{\"color\":\"#2a3f5f\"},\"marker\":{\"line\":{\"color\":\"#E5ECF6\",\"width\":0.5},\"pattern\":{\"fillmode\":\"overlay\",\"size\":10,\"solidity\":0.2}},\"type\":\"bar\"}],\"scattergeo\":[{\"type\":\"scattergeo\",\"marker\":{\"colorbar\":{\"outlinewidth\":0,\"ticks\":\"\"}}}],\"scatterpolar\":[{\"type\":\"scatterpolar\",\"marker\":{\"colorbar\":{\"outlinewidth\":0,\"ticks\":\"\"}}}],\"histogram\":[{\"marker\":{\"pattern\":{\"fillmode\":\"overlay\",\"size\":10,\"solidity\":0.2}},\"type\":\"histogram\"}],\"scattergl\":[{\"type\":\"scattergl\",\"marker\":{\"colorbar\":{\"outlinewidth\":0,\"ticks\":\"\"}}}],\"scatter3d\":[{\"type\":\"scatter3d\",\"line\":{\"colorbar\":{\"outlinewidth\":0,\"ticks\":\"\"}},\"marker\":{\"colorbar\":{\"outlinewidth\":0,\"ticks\":\"\"}}}],\"scattermapbox\":[{\"type\":\"scattermapbox\",\"marker\":{\"colorbar\":{\"outlinewidth\":0,\"ticks\":\"\"}}}],\"scatterternary\":[{\"type\":\"scatterternary\",\"marker\":{\"colorbar\":{\"outlinewidth\":0,\"ticks\":\"\"}}}],\"scattercarpet\":[{\"type\":\"scattercarpet\",\"marker\":{\"colorbar\":{\"outlinewidth\":0,\"ticks\":\"\"}}}],\"carpet\":[{\"aaxis\":{\"endlinecolor\":\"#2a3f5f\",\"gridcolor\":\"white\",\"linecolor\":\"white\",\"minorgridcolor\":\"white\",\"startlinecolor\":\"#2a3f5f\"},\"baxis\":{\"endlinecolor\":\"#2a3f5f\",\"gridcolor\":\"white\",\"linecolor\":\"white\",\"minorgridcolor\":\"white\",\"startlinecolor\":\"#2a3f5f\"},\"type\":\"carpet\"}],\"table\":[{\"cells\":{\"fill\":{\"color\":\"#EBF0F8\"},\"line\":{\"color\":\"white\"}},\"header\":{\"fill\":{\"color\":\"#C8D4E3\"},\"line\":{\"color\":\"white\"}},\"type\":\"table\"}],\"barpolar\":[{\"marker\":{\"line\":{\"color\":\"#E5ECF6\",\"width\":0.5},\"pattern\":{\"fillmode\":\"overlay\",\"size\":10,\"solidity\":0.2}},\"type\":\"barpolar\"}],\"pie\":[{\"automargin\":true,\"type\":\"pie\"}]},\"layout\":{\"autotypenumbers\":\"strict\",\"colorway\":[\"#636efa\",\"#EF553B\",\"#00cc96\",\"#ab63fa\",\"#FFA15A\",\"#19d3f3\",\"#FF6692\",\"#B6E880\",\"#FF97FF\",\"#FECB52\"],\"font\":{\"color\":\"#2a3f5f\"},\"hovermode\":\"closest\",\"hoverlabel\":{\"align\":\"left\"},\"paper_bgcolor\":\"white\",\"plot_bgcolor\":\"#E5ECF6\",\"polar\":{\"bgcolor\":\"#E5ECF6\",\"angularaxis\":{\"gridcolor\":\"white\",\"linecolor\":\"white\",\"ticks\":\"\"},\"radialaxis\":{\"gridcolor\":\"white\",\"linecolor\":\"white\",\"ticks\":\"\"}},\"ternary\":{\"bgcolor\":\"#E5ECF6\",\"aaxis\":{\"gridcolor\":\"white\",\"linecolor\":\"white\",\"ticks\":\"\"},\"baxis\":{\"gridcolor\":\"white\",\"linecolor\":\"white\",\"ticks\":\"\"},\"caxis\":{\"gridcolor\":\"white\",\"linecolor\":\"white\",\"ticks\":\"\"}},\"coloraxis\":{\"colorbar\":{\"outlinewidth\":0,\"ticks\":\"\"}},\"colorscale\":{\"sequential\":[[0.0,\"#0d0887\"],[0.1111111111111111,\"#46039f\"],[0.2222222222222222,\"#7201a8\"],[0.3333333333333333,\"#9c179e\"],[0.4444444444444444,\"#bd3786\"],[0.5555555555555556,\"#d8576b\"],[0.6666666666666666,\"#ed7953\"],[0.7777777777777778,\"#fb9f3a\"],[0.8888888888888888,\"#fdca26\"],[1.0,\"#f0f921\"]],\"sequentialminus\":[[0.0,\"#0d0887\"],[0.1111111111111111,\"#46039f\"],[0.2222222222222222,\"#7201a8\"],[0.3333333333333333,\"#9c179e\"],[0.4444444444444444,\"#bd3786\"],[0.5555555555555556,\"#d8576b\"],[0.6666666666666666,\"#ed7953\"],[0.7777777777777778,\"#fb9f3a\"],[0.8888888888888888,\"#fdca26\"],[1.0,\"#f0f921\"]],\"diverging\":[[0,\"#8e0152\"],[0.1,\"#c51b7d\"],[0.2,\"#de77ae\"],[0.3,\"#f1b6da\"],[0.4,\"#fde0ef\"],[0.5,\"#f7f7f7\"],[0.6,\"#e6f5d0\"],[0.7,\"#b8e186\"],[0.8,\"#7fbc41\"],[0.9,\"#4d9221\"],[1,\"#276419\"]]},\"xaxis\":{\"gridcolor\":\"white\",\"linecolor\":\"white\",\"ticks\":\"\",\"title\":{\"standoff\":15},\"zerolinecolor\":\"white\",\"automargin\":true,\"zerolinewidth\":2},\"yaxis\":{\"gridcolor\":\"white\",\"linecolor\":\"white\",\"ticks\":\"\",\"title\":{\"standoff\":15},\"zerolinecolor\":\"white\",\"automargin\":true,\"zerolinewidth\":2},\"scene\":{\"xaxis\":{\"backgroundcolor\":\"#E5ECF6\",\"gridcolor\":\"white\",\"linecolor\":\"white\",\"showbackground\":true,\"ticks\":\"\",\"zerolinecolor\":\"white\",\"gridwidth\":2},\"yaxis\":{\"backgroundcolor\":\"#E5ECF6\",\"gridcolor\":\"white\",\"linecolor\":\"white\",\"showbackground\":true,\"ticks\":\"\",\"zerolinecolor\":\"white\",\"gridwidth\":2},\"zaxis\":{\"backgroundcolor\":\"#E5ECF6\",\"gridcolor\":\"white\",\"linecolor\":\"white\",\"showbackground\":true,\"ticks\":\"\",\"zerolinecolor\":\"white\",\"gridwidth\":2}},\"shapedefaults\":{\"line\":{\"color\":\"#2a3f5f\"}},\"annotationdefaults\":{\"arrowcolor\":\"#2a3f5f\",\"arrowhead\":0,\"arrowwidth\":1},\"geo\":{\"bgcolor\":\"white\",\"landcolor\":\"#E5ECF6\",\"subunitcolor\":\"white\",\"showland\":true,\"showlakes\":true,\"lakecolor\":\"white\"},\"title\":{\"x\":0.05},\"mapbox\":{\"style\":\"light\"}}},\"coloraxis\":{\"colorbar\":{\"title\":{\"text\":\"frequency\"}},\"colorscale\":[[0.0,\"rgb(253, 253, 204)\"],[0.09090909090909091,\"rgb(206, 236, 179)\"],[0.18181818181818182,\"rgb(156, 219, 165)\"],[0.2727272727272727,\"rgb(111, 201, 163)\"],[0.36363636363636365,\"rgb(86, 177, 163)\"],[0.45454545454545453,\"rgb(76, 153, 160)\"],[0.5454545454545454,\"rgb(68, 130, 155)\"],[0.6363636363636364,\"rgb(62, 108, 150)\"],[0.7272727272727273,\"rgb(62, 82, 143)\"],[0.8181818181818182,\"rgb(64, 60, 115)\"],[0.9090909090909091,\"rgb(54, 43, 77)\"],[1.0,\"rgb(39, 26, 44)\"]]},\"legend\":{\"tracegroupgap\":0},\"margin\":{\"t\":60},\"width\":900,\"height\":700},                        {\"responsive\": true}                    ).then(function(){\n",
       "                            \n",
       "var gd = document.getElementById('38626031-9e34-44d0-9f8f-f58272d0aefd');\n",
       "var x = new MutationObserver(function (mutations, observer) {{\n",
       "        var display = window.getComputedStyle(gd).display;\n",
       "        if (!display || display === 'none') {{\n",
       "            console.log([gd, 'removed!']);\n",
       "            Plotly.purge(gd);\n",
       "            observer.disconnect();\n",
       "        }}\n",
       "}});\n",
       "\n",
       "// Listen for the removal of the full notebook cells\n",
       "var notebookContainer = gd.closest('#notebook-container');\n",
       "if (notebookContainer) {{\n",
       "    x.observe(notebookContainer, {childList: true});\n",
       "}}\n",
       "\n",
       "// Listen for the clearing of the current output cell\n",
       "var outputEl = gd.closest('.output');\n",
       "if (outputEl) {{\n",
       "    x.observe(outputEl, {childList: true});\n",
       "}}\n",
       "\n",
       "                        })                };                });            </script>        </div>"
      ]
     },
     "metadata": {},
     "output_type": "display_data"
    }
   ],
   "source": [
    "genre_freq.sort_values('frequency', ascending=False)\n",
    "fig = px.treemap(genre_freq, \n",
    "                 path=['group', 'genre'], \n",
    "                 color_continuous_scale='deep',\n",
    "                 values='frequency',color='frequency')\n",
    "\n",
    "fig.update_layout(width=900, height=700)\n",
    "fig.show()\n",
    "\n",
    "fig.write_html(os.path.join(FIG_DIR, 'treemap_genre_freq.html'))"
   ]
  },
  {
   "cell_type": "code",
   "execution_count": 206,
   "id": "17a7154c-c05f-4234-a052-7ebd8c32b20c",
   "metadata": {
    "execution": {
     "iopub.execute_input": "2023-08-23T12:41:32.703781Z",
     "iopub.status.busy": "2023-08-23T12:41:32.701880Z",
     "iopub.status.idle": "2023-08-23T12:41:33.157999Z",
     "shell.execute_reply": "2023-08-23T12:41:33.156801Z",
     "shell.execute_reply.started": "2023-08-23T12:41:32.703726Z"
    }
   },
   "outputs": [
    {
     "data": {
      "application/vnd.plotly.v1+json": {
       "config": {
        "plotlyServerURL": "https://plot.ly"
       },
       "data": [
        {
         "branchvalues": "total",
         "customdata": [
          [
           4
          ],
          [
           4
          ],
          [
           4
          ],
          [
           8
          ],
          [
           4
          ],
          [
           5
          ],
          [
           4
          ],
          [
           4
          ],
          [
           4
          ],
          [
           4
          ],
          [
           8
          ],
          [
           4
          ],
          [
           5
          ],
          [
           5
          ],
          [
           4
          ],
          [
           4
          ],
          [
           4
          ],
          [
           4
          ],
          [
           4
          ],
          [
           5
          ],
          [
           4
          ],
          [
           13
          ],
          [
           4
          ],
          [
           4
          ],
          [
           4
          ],
          [
           4
          ],
          [
           4
          ],
          [
           4
          ],
          [
           4
          ],
          [
           8
          ],
          [
           8
          ],
          [
           4
          ],
          [
           4
          ],
          [
           4
          ],
          [
           4
          ],
          [
           8
          ],
          [
           5
          ],
          [
           5
          ],
          [
           4
          ],
          [
           4
          ],
          [
           4
          ],
          [
           4
          ],
          [
           17
          ],
          [
           12
          ],
          [
           4
          ],
          [
           4
          ],
          [
           8
          ],
          [
           8
          ],
          [
           4
          ],
          [
           4
          ],
          [
           5
          ],
          [
           4
          ],
          [
           5
          ],
          [
           4
          ],
          [
           13
          ],
          [
           4
          ],
          [
           4
          ],
          [
           17
          ],
          [
           4
          ],
          [
           8
          ],
          [
           4
          ],
          [
           8
          ],
          [
           5
          ],
          [
           16
          ],
          [
           4
          ],
          [
           8
          ],
          [
           4
          ],
          [
           4
          ],
          [
           16
          ],
          [
           8
          ],
          [
           4
          ],
          [
           4
          ],
          [
           5
          ],
          [
           4
          ],
          [
           4
          ],
          [
           4
          ],
          [
           4
          ],
          [
           4
          ],
          [
           8
          ],
          [
           22
          ],
          [
           5
          ],
          [
           9
          ],
          [
           4
          ],
          [
           4
          ],
          [
           9
          ],
          [
           8.137176938369782
          ]
         ],
         "domain": {
          "x": [
           0,
           1
          ],
          "y": [
           0,
           1
          ]
         },
         "hovertemplate": "labels=%{label}<br>frequency_sum=%{value}<br>parent=%{parent}<br>id=%{id}<br>frequency=%{color}<extra></extra>",
         "ids": [
          "Publisher(s)/ Alibaba Group",
          "Publisher(s)/ CBS Interactive",
          "Publisher(s)/ Dwango",
          "Publisher(s)/ Garena",
          "Publisher(s)/ Koei Tecmo",
          "Publisher(s)/ Krafton ",
          "Publisher(s)/ NCsoft",
          "Publisher(s)/ Portkey Games",
          "Publisher(s)/ Scopely",
          "Publisher(s)/ Square Enix",
          "Publisher(s)/ Tencent",
          "Publisher(s)/ Tencent ",
          "Publisher(s)/ The Pokémon Company",
          "Publisher(s)/ VNG Games",
          "Publisher(s)/ Zynga",
          "Publisher(s)/37Games",
          "Publisher(s)/Activision ",
          "Publisher(s)/Alibaba Group",
          "Publisher(s)/Alibaba Group ",
          "Publisher(s)/Aniplex (Sony Music Entertainment Japan)",
          "Publisher(s)/Bandai Namco ",
          "Publisher(s)/Bandai Namco Entertainment",
          "Publisher(s)/Big Huge Games",
          "Publisher(s)/Blizzard (Activision Blizzard)",
          "Publisher(s)/Bubblegum Games",
          "Publisher(s)/Bushiroad",
          "Publisher(s)/CMGE",
          "Publisher(s)/Colopl",
          "Publisher(s)/Com2Us",
          "Publisher(s)/Cygames",
          "Publisher(s)/EA Sports (Electronic Arts)",
          "Publisher(s)/Electronic Arts",
          "Publisher(s)/Elex Tech",
          "Publisher(s)/Epic Games",
          "Publisher(s)/FoxNext ",
          "Publisher(s)/FunPlus",
          "Publisher(s)/Garena",
          "Publisher(s)/GungHo Online Entertainment",
          "Publisher(s)/IGG",
          "Publisher(s)/Jam City (Netmarble)",
          "Publisher(s)/Kabam (Netmarble)",
          "Publisher(s)/Kakao Games",
          "Publisher(s)/King (Activision Blizzard)",
          "Publisher(s)/Konami",
          "Publisher(s)/LINE",
          "Publisher(s)/Level Infinite",
          "Publisher(s)/Lilith Games",
          "Publisher(s)/Machine Zone",
          "Publisher(s)/Machine Zone ",
          "Publisher(s)/Miniclip",
          "Publisher(s)/Mixi",
          "Publisher(s)/Mojang Studios",
          "Publisher(s)/Moon Active",
          "Publisher(s)/Moonton (ByteDance)",
          "Publisher(s)/NCsoft",
          "Publisher(s)/NHN PlayArt ",
          "Publisher(s)/NaturalMotion (Zynga)",
          "Publisher(s)/NetEase",
          "Publisher(s)/NetEase ",
          "Publisher(s)/Netmarble",
          "Publisher(s)/Netmarble Games ",
          "Publisher(s)/Nexon",
          "Publisher(s)/Niantic ",
          "Publisher(s)/Nintendo",
          "Publisher(s)/PONOS Corporation",
          "Publisher(s)/Peak Games",
          "Publisher(s)/Perfect World Games ",
          "Publisher(s)/Plarium",
          "Publisher(s)/Playrix",
          "Publisher(s)/Playtika",
          "Publisher(s)/Portkey Games ",
          "Publisher(s)/Riot Games (Tencent)",
          "Publisher(s)/Roblox Corporation",
          "Publisher(s)/Rovio Entertainment",
          "Publisher(s)/Scopely",
          "Publisher(s)/Scopely ",
          "Publisher(s)/Small Giant Games",
          "Publisher(s)/Smilegate ",
          "Publisher(s)/Square Enix",
          "Publisher(s)/Supercell (Tencent)",
          "Publisher(s)/Tencent Games",
          "Publisher(s)/Tencent Games ",
          "Publisher(s)/Topwar Studio",
          "Publisher(s)/Yostar",
          "Publisher(s)/miHoYo",
          "Publisher(s)"
         ],
         "labels": [
          " Alibaba Group",
          " CBS Interactive",
          " Dwango",
          " Garena",
          " Koei Tecmo",
          " Krafton ",
          " NCsoft",
          " Portkey Games",
          " Scopely",
          " Square Enix",
          " Tencent",
          " Tencent ",
          " The Pokémon Company",
          " VNG Games",
          " Zynga",
          "37Games",
          "Activision ",
          "Alibaba Group",
          "Alibaba Group ",
          "Aniplex (Sony Music Entertainment Japan)",
          "Bandai Namco ",
          "Bandai Namco Entertainment",
          "Big Huge Games",
          "Blizzard (Activision Blizzard)",
          "Bubblegum Games",
          "Bushiroad",
          "CMGE",
          "Colopl",
          "Com2Us",
          "Cygames",
          "EA Sports (Electronic Arts)",
          "Electronic Arts",
          "Elex Tech",
          "Epic Games",
          "FoxNext ",
          "FunPlus",
          "Garena",
          "GungHo Online Entertainment",
          "IGG",
          "Jam City (Netmarble)",
          "Kabam (Netmarble)",
          "Kakao Games",
          "King (Activision Blizzard)",
          "Konami",
          "LINE",
          "Level Infinite",
          "Lilith Games",
          "Machine Zone",
          "Machine Zone ",
          "Miniclip",
          "Mixi",
          "Mojang Studios",
          "Moon Active",
          "Moonton (ByteDance)",
          "NCsoft",
          "NHN PlayArt ",
          "NaturalMotion (Zynga)",
          "NetEase",
          "NetEase ",
          "Netmarble",
          "Netmarble Games ",
          "Nexon",
          "Niantic ",
          "Nintendo",
          "PONOS Corporation",
          "Peak Games",
          "Perfect World Games ",
          "Plarium",
          "Playrix",
          "Playtika",
          "Portkey Games ",
          "Riot Games (Tencent)",
          "Roblox Corporation",
          "Rovio Entertainment",
          "Scopely",
          "Scopely ",
          "Small Giant Games",
          "Smilegate ",
          "Square Enix",
          "Supercell (Tencent)",
          "Tencent Games",
          "Tencent Games ",
          "Topwar Studio",
          "Yostar",
          "miHoYo",
          "Publisher(s)"
         ],
         "marker": {
          "coloraxis": "coloraxis",
          "colors": [
           4,
           4,
           4,
           8,
           4,
           5,
           4,
           4,
           4,
           4,
           8,
           4,
           5,
           5,
           4,
           4,
           4,
           4,
           4,
           5,
           4,
           13,
           4,
           4,
           4,
           4,
           4,
           4,
           4,
           8,
           8,
           4,
           4,
           4,
           4,
           8,
           5,
           5,
           4,
           4,
           4,
           4,
           17,
           12,
           4,
           4,
           8,
           8,
           4,
           4,
           5,
           4,
           5,
           4,
           13,
           4,
           4,
           17,
           4,
           8,
           4,
           8,
           5,
           16,
           4,
           8,
           4,
           4,
           16,
           8,
           4,
           4,
           5,
           4,
           4,
           4,
           4,
           4,
           8,
           22,
           5,
           9,
           4,
           4,
           9,
           8.137176938369782
          ]
         },
         "name": "",
         "parents": [
          "Publisher(s)",
          "Publisher(s)",
          "Publisher(s)",
          "Publisher(s)",
          "Publisher(s)",
          "Publisher(s)",
          "Publisher(s)",
          "Publisher(s)",
          "Publisher(s)",
          "Publisher(s)",
          "Publisher(s)",
          "Publisher(s)",
          "Publisher(s)",
          "Publisher(s)",
          "Publisher(s)",
          "Publisher(s)",
          "Publisher(s)",
          "Publisher(s)",
          "Publisher(s)",
          "Publisher(s)",
          "Publisher(s)",
          "Publisher(s)",
          "Publisher(s)",
          "Publisher(s)",
          "Publisher(s)",
          "Publisher(s)",
          "Publisher(s)",
          "Publisher(s)",
          "Publisher(s)",
          "Publisher(s)",
          "Publisher(s)",
          "Publisher(s)",
          "Publisher(s)",
          "Publisher(s)",
          "Publisher(s)",
          "Publisher(s)",
          "Publisher(s)",
          "Publisher(s)",
          "Publisher(s)",
          "Publisher(s)",
          "Publisher(s)",
          "Publisher(s)",
          "Publisher(s)",
          "Publisher(s)",
          "Publisher(s)",
          "Publisher(s)",
          "Publisher(s)",
          "Publisher(s)",
          "Publisher(s)",
          "Publisher(s)",
          "Publisher(s)",
          "Publisher(s)",
          "Publisher(s)",
          "Publisher(s)",
          "Publisher(s)",
          "Publisher(s)",
          "Publisher(s)",
          "Publisher(s)",
          "Publisher(s)",
          "Publisher(s)",
          "Publisher(s)",
          "Publisher(s)",
          "Publisher(s)",
          "Publisher(s)",
          "Publisher(s)",
          "Publisher(s)",
          "Publisher(s)",
          "Publisher(s)",
          "Publisher(s)",
          "Publisher(s)",
          "Publisher(s)",
          "Publisher(s)",
          "Publisher(s)",
          "Publisher(s)",
          "Publisher(s)",
          "Publisher(s)",
          "Publisher(s)",
          "Publisher(s)",
          "Publisher(s)",
          "Publisher(s)",
          "Publisher(s)",
          "Publisher(s)",
          "Publisher(s)",
          "Publisher(s)",
          "Publisher(s)",
          ""
         ],
         "type": "treemap",
         "values": [
          4,
          4,
          4,
          8,
          4,
          5,
          4,
          4,
          4,
          4,
          8,
          4,
          5,
          5,
          4,
          4,
          4,
          4,
          4,
          5,
          4,
          13,
          4,
          4,
          4,
          4,
          4,
          4,
          4,
          8,
          8,
          4,
          4,
          4,
          4,
          8,
          5,
          5,
          4,
          4,
          4,
          4,
          17,
          12,
          4,
          4,
          8,
          8,
          4,
          4,
          5,
          4,
          5,
          4,
          13,
          4,
          4,
          17,
          4,
          8,
          4,
          8,
          5,
          16,
          4,
          8,
          4,
          4,
          16,
          8,
          4,
          4,
          5,
          4,
          4,
          4,
          4,
          4,
          8,
          22,
          5,
          9,
          4,
          4,
          9,
          503
         ]
        }
       ],
       "layout": {
        "coloraxis": {
         "colorbar": {
          "title": {
           "text": "frequency"
          }
         },
         "colorscale": [
          [
           0,
           "rgb(253, 253, 204)"
          ],
          [
           0.09090909090909091,
           "rgb(206, 236, 179)"
          ],
          [
           0.18181818181818182,
           "rgb(156, 219, 165)"
          ],
          [
           0.2727272727272727,
           "rgb(111, 201, 163)"
          ],
          [
           0.36363636363636365,
           "rgb(86, 177, 163)"
          ],
          [
           0.45454545454545453,
           "rgb(76, 153, 160)"
          ],
          [
           0.5454545454545454,
           "rgb(68, 130, 155)"
          ],
          [
           0.6363636363636364,
           "rgb(62, 108, 150)"
          ],
          [
           0.7272727272727273,
           "rgb(62, 82, 143)"
          ],
          [
           0.8181818181818182,
           "rgb(64, 60, 115)"
          ],
          [
           0.9090909090909091,
           "rgb(54, 43, 77)"
          ],
          [
           1,
           "rgb(39, 26, 44)"
          ]
         ]
        },
        "height": 700,
        "legend": {
         "tracegroupgap": 0
        },
        "margin": {
         "t": 60
        },
        "template": {
         "data": {
          "bar": [
           {
            "error_x": {
             "color": "#2a3f5f"
            },
            "error_y": {
             "color": "#2a3f5f"
            },
            "marker": {
             "line": {
              "color": "#E5ECF6",
              "width": 0.5
             },
             "pattern": {
              "fillmode": "overlay",
              "size": 10,
              "solidity": 0.2
             }
            },
            "type": "bar"
           }
          ],
          "barpolar": [
           {
            "marker": {
             "line": {
              "color": "#E5ECF6",
              "width": 0.5
             },
             "pattern": {
              "fillmode": "overlay",
              "size": 10,
              "solidity": 0.2
             }
            },
            "type": "barpolar"
           }
          ],
          "carpet": [
           {
            "aaxis": {
             "endlinecolor": "#2a3f5f",
             "gridcolor": "white",
             "linecolor": "white",
             "minorgridcolor": "white",
             "startlinecolor": "#2a3f5f"
            },
            "baxis": {
             "endlinecolor": "#2a3f5f",
             "gridcolor": "white",
             "linecolor": "white",
             "minorgridcolor": "white",
             "startlinecolor": "#2a3f5f"
            },
            "type": "carpet"
           }
          ],
          "choropleth": [
           {
            "colorbar": {
             "outlinewidth": 0,
             "ticks": ""
            },
            "type": "choropleth"
           }
          ],
          "contour": [
           {
            "colorbar": {
             "outlinewidth": 0,
             "ticks": ""
            },
            "colorscale": [
             [
              0,
              "#0d0887"
             ],
             [
              0.1111111111111111,
              "#46039f"
             ],
             [
              0.2222222222222222,
              "#7201a8"
             ],
             [
              0.3333333333333333,
              "#9c179e"
             ],
             [
              0.4444444444444444,
              "#bd3786"
             ],
             [
              0.5555555555555556,
              "#d8576b"
             ],
             [
              0.6666666666666666,
              "#ed7953"
             ],
             [
              0.7777777777777778,
              "#fb9f3a"
             ],
             [
              0.8888888888888888,
              "#fdca26"
             ],
             [
              1,
              "#f0f921"
             ]
            ],
            "type": "contour"
           }
          ],
          "contourcarpet": [
           {
            "colorbar": {
             "outlinewidth": 0,
             "ticks": ""
            },
            "type": "contourcarpet"
           }
          ],
          "heatmap": [
           {
            "colorbar": {
             "outlinewidth": 0,
             "ticks": ""
            },
            "colorscale": [
             [
              0,
              "#0d0887"
             ],
             [
              0.1111111111111111,
              "#46039f"
             ],
             [
              0.2222222222222222,
              "#7201a8"
             ],
             [
              0.3333333333333333,
              "#9c179e"
             ],
             [
              0.4444444444444444,
              "#bd3786"
             ],
             [
              0.5555555555555556,
              "#d8576b"
             ],
             [
              0.6666666666666666,
              "#ed7953"
             ],
             [
              0.7777777777777778,
              "#fb9f3a"
             ],
             [
              0.8888888888888888,
              "#fdca26"
             ],
             [
              1,
              "#f0f921"
             ]
            ],
            "type": "heatmap"
           }
          ],
          "heatmapgl": [
           {
            "colorbar": {
             "outlinewidth": 0,
             "ticks": ""
            },
            "colorscale": [
             [
              0,
              "#0d0887"
             ],
             [
              0.1111111111111111,
              "#46039f"
             ],
             [
              0.2222222222222222,
              "#7201a8"
             ],
             [
              0.3333333333333333,
              "#9c179e"
             ],
             [
              0.4444444444444444,
              "#bd3786"
             ],
             [
              0.5555555555555556,
              "#d8576b"
             ],
             [
              0.6666666666666666,
              "#ed7953"
             ],
             [
              0.7777777777777778,
              "#fb9f3a"
             ],
             [
              0.8888888888888888,
              "#fdca26"
             ],
             [
              1,
              "#f0f921"
             ]
            ],
            "type": "heatmapgl"
           }
          ],
          "histogram": [
           {
            "marker": {
             "pattern": {
              "fillmode": "overlay",
              "size": 10,
              "solidity": 0.2
             }
            },
            "type": "histogram"
           }
          ],
          "histogram2d": [
           {
            "colorbar": {
             "outlinewidth": 0,
             "ticks": ""
            },
            "colorscale": [
             [
              0,
              "#0d0887"
             ],
             [
              0.1111111111111111,
              "#46039f"
             ],
             [
              0.2222222222222222,
              "#7201a8"
             ],
             [
              0.3333333333333333,
              "#9c179e"
             ],
             [
              0.4444444444444444,
              "#bd3786"
             ],
             [
              0.5555555555555556,
              "#d8576b"
             ],
             [
              0.6666666666666666,
              "#ed7953"
             ],
             [
              0.7777777777777778,
              "#fb9f3a"
             ],
             [
              0.8888888888888888,
              "#fdca26"
             ],
             [
              1,
              "#f0f921"
             ]
            ],
            "type": "histogram2d"
           }
          ],
          "histogram2dcontour": [
           {
            "colorbar": {
             "outlinewidth": 0,
             "ticks": ""
            },
            "colorscale": [
             [
              0,
              "#0d0887"
             ],
             [
              0.1111111111111111,
              "#46039f"
             ],
             [
              0.2222222222222222,
              "#7201a8"
             ],
             [
              0.3333333333333333,
              "#9c179e"
             ],
             [
              0.4444444444444444,
              "#bd3786"
             ],
             [
              0.5555555555555556,
              "#d8576b"
             ],
             [
              0.6666666666666666,
              "#ed7953"
             ],
             [
              0.7777777777777778,
              "#fb9f3a"
             ],
             [
              0.8888888888888888,
              "#fdca26"
             ],
             [
              1,
              "#f0f921"
             ]
            ],
            "type": "histogram2dcontour"
           }
          ],
          "mesh3d": [
           {
            "colorbar": {
             "outlinewidth": 0,
             "ticks": ""
            },
            "type": "mesh3d"
           }
          ],
          "parcoords": [
           {
            "line": {
             "colorbar": {
              "outlinewidth": 0,
              "ticks": ""
             }
            },
            "type": "parcoords"
           }
          ],
          "pie": [
           {
            "automargin": true,
            "type": "pie"
           }
          ],
          "scatter": [
           {
            "fillpattern": {
             "fillmode": "overlay",
             "size": 10,
             "solidity": 0.2
            },
            "type": "scatter"
           }
          ],
          "scatter3d": [
           {
            "line": {
             "colorbar": {
              "outlinewidth": 0,
              "ticks": ""
             }
            },
            "marker": {
             "colorbar": {
              "outlinewidth": 0,
              "ticks": ""
             }
            },
            "type": "scatter3d"
           }
          ],
          "scattercarpet": [
           {
            "marker": {
             "colorbar": {
              "outlinewidth": 0,
              "ticks": ""
             }
            },
            "type": "scattercarpet"
           }
          ],
          "scattergeo": [
           {
            "marker": {
             "colorbar": {
              "outlinewidth": 0,
              "ticks": ""
             }
            },
            "type": "scattergeo"
           }
          ],
          "scattergl": [
           {
            "marker": {
             "colorbar": {
              "outlinewidth": 0,
              "ticks": ""
             }
            },
            "type": "scattergl"
           }
          ],
          "scattermapbox": [
           {
            "marker": {
             "colorbar": {
              "outlinewidth": 0,
              "ticks": ""
             }
            },
            "type": "scattermapbox"
           }
          ],
          "scatterpolar": [
           {
            "marker": {
             "colorbar": {
              "outlinewidth": 0,
              "ticks": ""
             }
            },
            "type": "scatterpolar"
           }
          ],
          "scatterpolargl": [
           {
            "marker": {
             "colorbar": {
              "outlinewidth": 0,
              "ticks": ""
             }
            },
            "type": "scatterpolargl"
           }
          ],
          "scatterternary": [
           {
            "marker": {
             "colorbar": {
              "outlinewidth": 0,
              "ticks": ""
             }
            },
            "type": "scatterternary"
           }
          ],
          "surface": [
           {
            "colorbar": {
             "outlinewidth": 0,
             "ticks": ""
            },
            "colorscale": [
             [
              0,
              "#0d0887"
             ],
             [
              0.1111111111111111,
              "#46039f"
             ],
             [
              0.2222222222222222,
              "#7201a8"
             ],
             [
              0.3333333333333333,
              "#9c179e"
             ],
             [
              0.4444444444444444,
              "#bd3786"
             ],
             [
              0.5555555555555556,
              "#d8576b"
             ],
             [
              0.6666666666666666,
              "#ed7953"
             ],
             [
              0.7777777777777778,
              "#fb9f3a"
             ],
             [
              0.8888888888888888,
              "#fdca26"
             ],
             [
              1,
              "#f0f921"
             ]
            ],
            "type": "surface"
           }
          ],
          "table": [
           {
            "cells": {
             "fill": {
              "color": "#EBF0F8"
             },
             "line": {
              "color": "white"
             }
            },
            "header": {
             "fill": {
              "color": "#C8D4E3"
             },
             "line": {
              "color": "white"
             }
            },
            "type": "table"
           }
          ]
         },
         "layout": {
          "annotationdefaults": {
           "arrowcolor": "#2a3f5f",
           "arrowhead": 0,
           "arrowwidth": 1
          },
          "autotypenumbers": "strict",
          "coloraxis": {
           "colorbar": {
            "outlinewidth": 0,
            "ticks": ""
           }
          },
          "colorscale": {
           "diverging": [
            [
             0,
             "#8e0152"
            ],
            [
             0.1,
             "#c51b7d"
            ],
            [
             0.2,
             "#de77ae"
            ],
            [
             0.3,
             "#f1b6da"
            ],
            [
             0.4,
             "#fde0ef"
            ],
            [
             0.5,
             "#f7f7f7"
            ],
            [
             0.6,
             "#e6f5d0"
            ],
            [
             0.7,
             "#b8e186"
            ],
            [
             0.8,
             "#7fbc41"
            ],
            [
             0.9,
             "#4d9221"
            ],
            [
             1,
             "#276419"
            ]
           ],
           "sequential": [
            [
             0,
             "#0d0887"
            ],
            [
             0.1111111111111111,
             "#46039f"
            ],
            [
             0.2222222222222222,
             "#7201a8"
            ],
            [
             0.3333333333333333,
             "#9c179e"
            ],
            [
             0.4444444444444444,
             "#bd3786"
            ],
            [
             0.5555555555555556,
             "#d8576b"
            ],
            [
             0.6666666666666666,
             "#ed7953"
            ],
            [
             0.7777777777777778,
             "#fb9f3a"
            ],
            [
             0.8888888888888888,
             "#fdca26"
            ],
            [
             1,
             "#f0f921"
            ]
           ],
           "sequentialminus": [
            [
             0,
             "#0d0887"
            ],
            [
             0.1111111111111111,
             "#46039f"
            ],
            [
             0.2222222222222222,
             "#7201a8"
            ],
            [
             0.3333333333333333,
             "#9c179e"
            ],
            [
             0.4444444444444444,
             "#bd3786"
            ],
            [
             0.5555555555555556,
             "#d8576b"
            ],
            [
             0.6666666666666666,
             "#ed7953"
            ],
            [
             0.7777777777777778,
             "#fb9f3a"
            ],
            [
             0.8888888888888888,
             "#fdca26"
            ],
            [
             1,
             "#f0f921"
            ]
           ]
          },
          "colorway": [
           "#636efa",
           "#EF553B",
           "#00cc96",
           "#ab63fa",
           "#FFA15A",
           "#19d3f3",
           "#FF6692",
           "#B6E880",
           "#FF97FF",
           "#FECB52"
          ],
          "font": {
           "color": "#2a3f5f"
          },
          "geo": {
           "bgcolor": "white",
           "lakecolor": "white",
           "landcolor": "#E5ECF6",
           "showlakes": true,
           "showland": true,
           "subunitcolor": "white"
          },
          "hoverlabel": {
           "align": "left"
          },
          "hovermode": "closest",
          "mapbox": {
           "style": "light"
          },
          "paper_bgcolor": "white",
          "plot_bgcolor": "#E5ECF6",
          "polar": {
           "angularaxis": {
            "gridcolor": "white",
            "linecolor": "white",
            "ticks": ""
           },
           "bgcolor": "#E5ECF6",
           "radialaxis": {
            "gridcolor": "white",
            "linecolor": "white",
            "ticks": ""
           }
          },
          "scene": {
           "xaxis": {
            "backgroundcolor": "#E5ECF6",
            "gridcolor": "white",
            "gridwidth": 2,
            "linecolor": "white",
            "showbackground": true,
            "ticks": "",
            "zerolinecolor": "white"
           },
           "yaxis": {
            "backgroundcolor": "#E5ECF6",
            "gridcolor": "white",
            "gridwidth": 2,
            "linecolor": "white",
            "showbackground": true,
            "ticks": "",
            "zerolinecolor": "white"
           },
           "zaxis": {
            "backgroundcolor": "#E5ECF6",
            "gridcolor": "white",
            "gridwidth": 2,
            "linecolor": "white",
            "showbackground": true,
            "ticks": "",
            "zerolinecolor": "white"
           }
          },
          "shapedefaults": {
           "line": {
            "color": "#2a3f5f"
           }
          },
          "ternary": {
           "aaxis": {
            "gridcolor": "white",
            "linecolor": "white",
            "ticks": ""
           },
           "baxis": {
            "gridcolor": "white",
            "linecolor": "white",
            "ticks": ""
           },
           "bgcolor": "#E5ECF6",
           "caxis": {
            "gridcolor": "white",
            "linecolor": "white",
            "ticks": ""
           }
          },
          "title": {
           "x": 0.05
          },
          "xaxis": {
           "automargin": true,
           "gridcolor": "white",
           "linecolor": "white",
           "ticks": "",
           "title": {
            "standoff": 15
           },
           "zerolinecolor": "white",
           "zerolinewidth": 2
          },
          "yaxis": {
           "automargin": true,
           "gridcolor": "white",
           "linecolor": "white",
           "ticks": "",
           "title": {
            "standoff": 15
           },
           "zerolinecolor": "white",
           "zerolinewidth": 2
          }
         }
        },
        "width": 900
       }
      },
      "image/png": "[encoded data removed]",
      "text/html": [
       "<div>                            <div id=\"c2768df7-cf1c-453f-84f1-ea4b9954e653\" class=\"plotly-graph-div\" style=\"height:700px; width:900px;\"></div>            <script type=\"text/javascript\">                require([\"plotly\"], function(Plotly) {                    window.PLOTLYENV=window.PLOTLYENV || {};                                    if (document.getElementById(\"c2768df7-cf1c-453f-84f1-ea4b9954e653\")) {                    Plotly.newPlot(                        \"c2768df7-cf1c-453f-84f1-ea4b9954e653\",                        [{\"branchvalues\":\"total\",\"customdata\":[[4.0],[4.0],[4.0],[8.0],[4.0],[5.0],[4.0],[4.0],[4.0],[4.0],[8.0],[4.0],[5.0],[5.0],[4.0],[4.0],[4.0],[4.0],[4.0],[5.0],[4.0],[13.0],[4.0],[4.0],[4.0],[4.0],[4.0],[4.0],[4.0],[8.0],[8.0],[4.0],[4.0],[4.0],[4.0],[8.0],[5.0],[5.0],[4.0],[4.0],[4.0],[4.0],[17.0],[12.0],[4.0],[4.0],[8.0],[8.0],[4.0],[4.0],[5.0],[4.0],[5.0],[4.0],[13.0],[4.0],[4.0],[17.0],[4.0],[8.0],[4.0],[8.0],[5.0],[16.0],[4.0],[8.0],[4.0],[4.0],[16.0],[8.0],[4.0],[4.0],[5.0],[4.0],[4.0],[4.0],[4.0],[4.0],[8.0],[22.0],[5.0],[9.0],[4.0],[4.0],[9.0],[8.137176938369782]],\"domain\":{\"x\":[0.0,1.0],\"y\":[0.0,1.0]},\"hovertemplate\":\"labels=%{label}\\u003cbr\\u003efrequency_sum=%{value}\\u003cbr\\u003eparent=%{parent}\\u003cbr\\u003eid=%{id}\\u003cbr\\u003efrequency=%{color}\\u003cextra\\u003e\\u003c\\u002fextra\\u003e\",\"ids\":[\"Publisher(s)\\u002f Alibaba Group\",\"Publisher(s)\\u002f CBS Interactive\",\"Publisher(s)\\u002f Dwango\",\"Publisher(s)\\u002f Garena\",\"Publisher(s)\\u002f Koei Tecmo\",\"Publisher(s)\\u002f Krafton \",\"Publisher(s)\\u002f NCsoft\",\"Publisher(s)\\u002f Portkey Games\",\"Publisher(s)\\u002f Scopely\",\"Publisher(s)\\u002f Square Enix\",\"Publisher(s)\\u002f Tencent\",\"Publisher(s)\\u002f Tencent \",\"Publisher(s)\\u002f The Pok\\u00e9mon Company\",\"Publisher(s)\\u002f VNG Games\",\"Publisher(s)\\u002f Zynga\",\"Publisher(s)\\u002f37Games\",\"Publisher(s)\\u002fActivision \",\"Publisher(s)\\u002fAlibaba Group\",\"Publisher(s)\\u002fAlibaba Group \",\"Publisher(s)\\u002fAniplex (Sony Music Entertainment Japan)\",\"Publisher(s)\\u002fBandai Namco \",\"Publisher(s)\\u002fBandai Namco Entertainment\",\"Publisher(s)\\u002fBig Huge Games\",\"Publisher(s)\\u002fBlizzard (Activision Blizzard)\",\"Publisher(s)\\u002fBubblegum Games\",\"Publisher(s)\\u002fBushiroad\",\"Publisher(s)\\u002fCMGE\",\"Publisher(s)\\u002fColopl\",\"Publisher(s)\\u002fCom2Us\",\"Publisher(s)\\u002fCygames\",\"Publisher(s)\\u002fEA Sports (Electronic Arts)\",\"Publisher(s)\\u002fElectronic Arts\",\"Publisher(s)\\u002fElex Tech\",\"Publisher(s)\\u002fEpic Games\",\"Publisher(s)\\u002fFoxNext \",\"Publisher(s)\\u002fFunPlus\",\"Publisher(s)\\u002fGarena\",\"Publisher(s)\\u002fGungHo Online Entertainment\",\"Publisher(s)\\u002fIGG\",\"Publisher(s)\\u002fJam City (Netmarble)\",\"Publisher(s)\\u002fKabam (Netmarble)\",\"Publisher(s)\\u002fKakao Games\",\"Publisher(s)\\u002fKing (Activision Blizzard)\",\"Publisher(s)\\u002fKonami\",\"Publisher(s)\\u002fLINE\",\"Publisher(s)\\u002fLevel Infinite\",\"Publisher(s)\\u002fLilith Games\",\"Publisher(s)\\u002fMachine Zone\",\"Publisher(s)\\u002fMachine Zone \",\"Publisher(s)\\u002fMiniclip\",\"Publisher(s)\\u002fMixi\",\"Publisher(s)\\u002fMojang Studios\",\"Publisher(s)\\u002fMoon Active\",\"Publisher(s)\\u002fMoonton (ByteDance)\",\"Publisher(s)\\u002fNCsoft\",\"Publisher(s)\\u002fNHN PlayArt \",\"Publisher(s)\\u002fNaturalMotion (Zynga)\",\"Publisher(s)\\u002fNetEase\",\"Publisher(s)\\u002fNetEase \",\"Publisher(s)\\u002fNetmarble\",\"Publisher(s)\\u002fNetmarble Games \",\"Publisher(s)\\u002fNexon\",\"Publisher(s)\\u002fNiantic \",\"Publisher(s)\\u002fNintendo\",\"Publisher(s)\\u002fPONOS Corporation\",\"Publisher(s)\\u002fPeak Games\",\"Publisher(s)\\u002fPerfect World Games \",\"Publisher(s)\\u002fPlarium\",\"Publisher(s)\\u002fPlayrix\",\"Publisher(s)\\u002fPlaytika\",\"Publisher(s)\\u002fPortkey Games \",\"Publisher(s)\\u002fRiot Games (Tencent)\",\"Publisher(s)\\u002fRoblox Corporation\",\"Publisher(s)\\u002fRovio Entertainment\",\"Publisher(s)\\u002fScopely\",\"Publisher(s)\\u002fScopely \",\"Publisher(s)\\u002fSmall Giant Games\",\"Publisher(s)\\u002fSmilegate \",\"Publisher(s)\\u002fSquare Enix\",\"Publisher(s)\\u002fSupercell (Tencent)\",\"Publisher(s)\\u002fTencent Games\",\"Publisher(s)\\u002fTencent Games \",\"Publisher(s)\\u002fTopwar Studio\",\"Publisher(s)\\u002fYostar\",\"Publisher(s)\\u002fmiHoYo\",\"Publisher(s)\"],\"labels\":[\" Alibaba Group\",\" CBS Interactive\",\" Dwango\",\" Garena\",\" Koei Tecmo\",\" Krafton \",\" NCsoft\",\" Portkey Games\",\" Scopely\",\" Square Enix\",\" Tencent\",\" Tencent \",\" The Pok\\u00e9mon Company\",\" VNG Games\",\" Zynga\",\"37Games\",\"Activision \",\"Alibaba Group\",\"Alibaba Group \",\"Aniplex (Sony Music Entertainment Japan)\",\"Bandai Namco \",\"Bandai Namco Entertainment\",\"Big Huge Games\",\"Blizzard (Activision Blizzard)\",\"Bubblegum Games\",\"Bushiroad\",\"CMGE\",\"Colopl\",\"Com2Us\",\"Cygames\",\"EA Sports (Electronic Arts)\",\"Electronic Arts\",\"Elex Tech\",\"Epic Games\",\"FoxNext \",\"FunPlus\",\"Garena\",\"GungHo Online Entertainment\",\"IGG\",\"Jam City (Netmarble)\",\"Kabam (Netmarble)\",\"Kakao Games\",\"King (Activision Blizzard)\",\"Konami\",\"LINE\",\"Level Infinite\",\"Lilith Games\",\"Machine Zone\",\"Machine Zone \",\"Miniclip\",\"Mixi\",\"Mojang Studios\",\"Moon Active\",\"Moonton (ByteDance)\",\"NCsoft\",\"NHN PlayArt \",\"NaturalMotion (Zynga)\",\"NetEase\",\"NetEase \",\"Netmarble\",\"Netmarble Games \",\"Nexon\",\"Niantic \",\"Nintendo\",\"PONOS Corporation\",\"Peak Games\",\"Perfect World Games \",\"Plarium\",\"Playrix\",\"Playtika\",\"Portkey Games \",\"Riot Games (Tencent)\",\"Roblox Corporation\",\"Rovio Entertainment\",\"Scopely\",\"Scopely \",\"Small Giant Games\",\"Smilegate \",\"Square Enix\",\"Supercell (Tencent)\",\"Tencent Games\",\"Tencent Games \",\"Topwar Studio\",\"Yostar\",\"miHoYo\",\"Publisher(s)\"],\"marker\":{\"coloraxis\":\"coloraxis\",\"colors\":[4.0,4.0,4.0,8.0,4.0,5.0,4.0,4.0,4.0,4.0,8.0,4.0,5.0,5.0,4.0,4.0,4.0,4.0,4.0,5.0,4.0,13.0,4.0,4.0,4.0,4.0,4.0,4.0,4.0,8.0,8.0,4.0,4.0,4.0,4.0,8.0,5.0,5.0,4.0,4.0,4.0,4.0,17.0,12.0,4.0,4.0,8.0,8.0,4.0,4.0,5.0,4.0,5.0,4.0,13.0,4.0,4.0,17.0,4.0,8.0,4.0,8.0,5.0,16.0,4.0,8.0,4.0,4.0,16.0,8.0,4.0,4.0,5.0,4.0,4.0,4.0,4.0,4.0,8.0,22.0,5.0,9.0,4.0,4.0,9.0,8.137176938369782]},\"name\":\"\",\"parents\":[\"Publisher(s)\",\"Publisher(s)\",\"Publisher(s)\",\"Publisher(s)\",\"Publisher(s)\",\"Publisher(s)\",\"Publisher(s)\",\"Publisher(s)\",\"Publisher(s)\",\"Publisher(s)\",\"Publisher(s)\",\"Publisher(s)\",\"Publisher(s)\",\"Publisher(s)\",\"Publisher(s)\",\"Publisher(s)\",\"Publisher(s)\",\"Publisher(s)\",\"Publisher(s)\",\"Publisher(s)\",\"Publisher(s)\",\"Publisher(s)\",\"Publisher(s)\",\"Publisher(s)\",\"Publisher(s)\",\"Publisher(s)\",\"Publisher(s)\",\"Publisher(s)\",\"Publisher(s)\",\"Publisher(s)\",\"Publisher(s)\",\"Publisher(s)\",\"Publisher(s)\",\"Publisher(s)\",\"Publisher(s)\",\"Publisher(s)\",\"Publisher(s)\",\"Publisher(s)\",\"Publisher(s)\",\"Publisher(s)\",\"Publisher(s)\",\"Publisher(s)\",\"Publisher(s)\",\"Publisher(s)\",\"Publisher(s)\",\"Publisher(s)\",\"Publisher(s)\",\"Publisher(s)\",\"Publisher(s)\",\"Publisher(s)\",\"Publisher(s)\",\"Publisher(s)\",\"Publisher(s)\",\"Publisher(s)\",\"Publisher(s)\",\"Publisher(s)\",\"Publisher(s)\",\"Publisher(s)\",\"Publisher(s)\",\"Publisher(s)\",\"Publisher(s)\",\"Publisher(s)\",\"Publisher(s)\",\"Publisher(s)\",\"Publisher(s)\",\"Publisher(s)\",\"Publisher(s)\",\"Publisher(s)\",\"Publisher(s)\",\"Publisher(s)\",\"Publisher(s)\",\"Publisher(s)\",\"Publisher(s)\",\"Publisher(s)\",\"Publisher(s)\",\"Publisher(s)\",\"Publisher(s)\",\"Publisher(s)\",\"Publisher(s)\",\"Publisher(s)\",\"Publisher(s)\",\"Publisher(s)\",\"Publisher(s)\",\"Publisher(s)\",\"Publisher(s)\",\"\"],\"values\":[4,4,4,8,4,5,4,4,4,4,8,4,5,5,4,4,4,4,4,5,4,13,4,4,4,4,4,4,4,8,8,4,4,4,4,8,5,5,4,4,4,4,17,12,4,4,8,8,4,4,5,4,5,4,13,4,4,17,4,8,4,8,5,16,4,8,4,4,16,8,4,4,5,4,4,4,4,4,8,22,5,9,4,4,9,503],\"type\":\"treemap\"}],                        {\"template\":{\"data\":{\"histogram2dcontour\":[{\"type\":\"histogram2dcontour\",\"colorbar\":{\"outlinewidth\":0,\"ticks\":\"\"},\"colorscale\":[[0.0,\"#0d0887\"],[0.1111111111111111,\"#46039f\"],[0.2222222222222222,\"#7201a8\"],[0.3333333333333333,\"#9c179e\"],[0.4444444444444444,\"#bd3786\"],[0.5555555555555556,\"#d8576b\"],[0.6666666666666666,\"#ed7953\"],[0.7777777777777778,\"#fb9f3a\"],[0.8888888888888888,\"#fdca26\"],[1.0,\"#f0f921\"]]}],\"choropleth\":[{\"type\":\"choropleth\",\"colorbar\":{\"outlinewidth\":0,\"ticks\":\"\"}}],\"histogram2d\":[{\"type\":\"histogram2d\",\"colorbar\":{\"outlinewidth\":0,\"ticks\":\"\"},\"colorscale\":[[0.0,\"#0d0887\"],[0.1111111111111111,\"#46039f\"],[0.2222222222222222,\"#7201a8\"],[0.3333333333333333,\"#9c179e\"],[0.4444444444444444,\"#bd3786\"],[0.5555555555555556,\"#d8576b\"],[0.6666666666666666,\"#ed7953\"],[0.7777777777777778,\"#fb9f3a\"],[0.8888888888888888,\"#fdca26\"],[1.0,\"#f0f921\"]]}],\"heatmap\":[{\"type\":\"heatmap\",\"colorbar\":{\"outlinewidth\":0,\"ticks\":\"\"},\"colorscale\":[[0.0,\"#0d0887\"],[0.1111111111111111,\"#46039f\"],[0.2222222222222222,\"#7201a8\"],[0.3333333333333333,\"#9c179e\"],[0.4444444444444444,\"#bd3786\"],[0.5555555555555556,\"#d8576b\"],[0.6666666666666666,\"#ed7953\"],[0.7777777777777778,\"#fb9f3a\"],[0.8888888888888888,\"#fdca26\"],[1.0,\"#f0f921\"]]}],\"heatmapgl\":[{\"type\":\"heatmapgl\",\"colorbar\":{\"outlinewidth\":0,\"ticks\":\"\"},\"colorscale\":[[0.0,\"#0d0887\"],[0.1111111111111111,\"#46039f\"],[0.2222222222222222,\"#7201a8\"],[0.3333333333333333,\"#9c179e\"],[0.4444444444444444,\"#bd3786\"],[0.5555555555555556,\"#d8576b\"],[0.6666666666666666,\"#ed7953\"],[0.7777777777777778,\"#fb9f3a\"],[0.8888888888888888,\"#fdca26\"],[1.0,\"#f0f921\"]]}],\"contourcarpet\":[{\"type\":\"contourcarpet\",\"colorbar\":{\"outlinewidth\":0,\"ticks\":\"\"}}],\"contour\":[{\"type\":\"contour\",\"colorbar\":{\"outlinewidth\":0,\"ticks\":\"\"},\"colorscale\":[[0.0,\"#0d0887\"],[0.1111111111111111,\"#46039f\"],[0.2222222222222222,\"#7201a8\"],[0.3333333333333333,\"#9c179e\"],[0.4444444444444444,\"#bd3786\"],[0.5555555555555556,\"#d8576b\"],[0.6666666666666666,\"#ed7953\"],[0.7777777777777778,\"#fb9f3a\"],[0.8888888888888888,\"#fdca26\"],[1.0,\"#f0f921\"]]}],\"surface\":[{\"type\":\"surface\",\"colorbar\":{\"outlinewidth\":0,\"ticks\":\"\"},\"colorscale\":[[0.0,\"#0d0887\"],[0.1111111111111111,\"#46039f\"],[0.2222222222222222,\"#7201a8\"],[0.3333333333333333,\"#9c179e\"],[0.4444444444444444,\"#bd3786\"],[0.5555555555555556,\"#d8576b\"],[0.6666666666666666,\"#ed7953\"],[0.7777777777777778,\"#fb9f3a\"],[0.8888888888888888,\"#fdca26\"],[1.0,\"#f0f921\"]]}],\"mesh3d\":[{\"type\":\"mesh3d\",\"colorbar\":{\"outlinewidth\":0,\"ticks\":\"\"}}],\"scatter\":[{\"fillpattern\":{\"fillmode\":\"overlay\",\"size\":10,\"solidity\":0.2},\"type\":\"scatter\"}],\"parcoords\":[{\"type\":\"parcoords\",\"line\":{\"colorbar\":{\"outlinewidth\":0,\"ticks\":\"\"}}}],\"scatterpolargl\":[{\"type\":\"scatterpolargl\",\"marker\":{\"colorbar\":{\"outlinewidth\":0,\"ticks\":\"\"}}}],\"bar\":[{\"error_x\":{\"color\":\"#2a3f5f\"},\"error_y\":{\"color\":\"#2a3f5f\"},\"marker\":{\"line\":{\"color\":\"#E5ECF6\",\"width\":0.5},\"pattern\":{\"fillmode\":\"overlay\",\"size\":10,\"solidity\":0.2}},\"type\":\"bar\"}],\"scattergeo\":[{\"type\":\"scattergeo\",\"marker\":{\"colorbar\":{\"outlinewidth\":0,\"ticks\":\"\"}}}],\"scatterpolar\":[{\"type\":\"scatterpolar\",\"marker\":{\"colorbar\":{\"outlinewidth\":0,\"ticks\":\"\"}}}],\"histogram\":[{\"marker\":{\"pattern\":{\"fillmode\":\"overlay\",\"size\":10,\"solidity\":0.2}},\"type\":\"histogram\"}],\"scattergl\":[{\"type\":\"scattergl\",\"marker\":{\"colorbar\":{\"outlinewidth\":0,\"ticks\":\"\"}}}],\"scatter3d\":[{\"type\":\"scatter3d\",\"line\":{\"colorbar\":{\"outlinewidth\":0,\"ticks\":\"\"}},\"marker\":{\"colorbar\":{\"outlinewidth\":0,\"ticks\":\"\"}}}],\"scattermapbox\":[{\"type\":\"scattermapbox\",\"marker\":{\"colorbar\":{\"outlinewidth\":0,\"ticks\":\"\"}}}],\"scatterternary\":[{\"type\":\"scatterternary\",\"marker\":{\"colorbar\":{\"outlinewidth\":0,\"ticks\":\"\"}}}],\"scattercarpet\":[{\"type\":\"scattercarpet\",\"marker\":{\"colorbar\":{\"outlinewidth\":0,\"ticks\":\"\"}}}],\"carpet\":[{\"aaxis\":{\"endlinecolor\":\"#2a3f5f\",\"gridcolor\":\"white\",\"linecolor\":\"white\",\"minorgridcolor\":\"white\",\"startlinecolor\":\"#2a3f5f\"},\"baxis\":{\"endlinecolor\":\"#2a3f5f\",\"gridcolor\":\"white\",\"linecolor\":\"white\",\"minorgridcolor\":\"white\",\"startlinecolor\":\"#2a3f5f\"},\"type\":\"carpet\"}],\"table\":[{\"cells\":{\"fill\":{\"color\":\"#EBF0F8\"},\"line\":{\"color\":\"white\"}},\"header\":{\"fill\":{\"color\":\"#C8D4E3\"},\"line\":{\"color\":\"white\"}},\"type\":\"table\"}],\"barpolar\":[{\"marker\":{\"line\":{\"color\":\"#E5ECF6\",\"width\":0.5},\"pattern\":{\"fillmode\":\"overlay\",\"size\":10,\"solidity\":0.2}},\"type\":\"barpolar\"}],\"pie\":[{\"automargin\":true,\"type\":\"pie\"}]},\"layout\":{\"autotypenumbers\":\"strict\",\"colorway\":[\"#636efa\",\"#EF553B\",\"#00cc96\",\"#ab63fa\",\"#FFA15A\",\"#19d3f3\",\"#FF6692\",\"#B6E880\",\"#FF97FF\",\"#FECB52\"],\"font\":{\"color\":\"#2a3f5f\"},\"hovermode\":\"closest\",\"hoverlabel\":{\"align\":\"left\"},\"paper_bgcolor\":\"white\",\"plot_bgcolor\":\"#E5ECF6\",\"polar\":{\"bgcolor\":\"#E5ECF6\",\"angularaxis\":{\"gridcolor\":\"white\",\"linecolor\":\"white\",\"ticks\":\"\"},\"radialaxis\":{\"gridcolor\":\"white\",\"linecolor\":\"white\",\"ticks\":\"\"}},\"ternary\":{\"bgcolor\":\"#E5ECF6\",\"aaxis\":{\"gridcolor\":\"white\",\"linecolor\":\"white\",\"ticks\":\"\"},\"baxis\":{\"gridcolor\":\"white\",\"linecolor\":\"white\",\"ticks\":\"\"},\"caxis\":{\"gridcolor\":\"white\",\"linecolor\":\"white\",\"ticks\":\"\"}},\"coloraxis\":{\"colorbar\":{\"outlinewidth\":0,\"ticks\":\"\"}},\"colorscale\":{\"sequential\":[[0.0,\"#0d0887\"],[0.1111111111111111,\"#46039f\"],[0.2222222222222222,\"#7201a8\"],[0.3333333333333333,\"#9c179e\"],[0.4444444444444444,\"#bd3786\"],[0.5555555555555556,\"#d8576b\"],[0.6666666666666666,\"#ed7953\"],[0.7777777777777778,\"#fb9f3a\"],[0.8888888888888888,\"#fdca26\"],[1.0,\"#f0f921\"]],\"sequentialminus\":[[0.0,\"#0d0887\"],[0.1111111111111111,\"#46039f\"],[0.2222222222222222,\"#7201a8\"],[0.3333333333333333,\"#9c179e\"],[0.4444444444444444,\"#bd3786\"],[0.5555555555555556,\"#d8576b\"],[0.6666666666666666,\"#ed7953\"],[0.7777777777777778,\"#fb9f3a\"],[0.8888888888888888,\"#fdca26\"],[1.0,\"#f0f921\"]],\"diverging\":[[0,\"#8e0152\"],[0.1,\"#c51b7d\"],[0.2,\"#de77ae\"],[0.3,\"#f1b6da\"],[0.4,\"#fde0ef\"],[0.5,\"#f7f7f7\"],[0.6,\"#e6f5d0\"],[0.7,\"#b8e186\"],[0.8,\"#7fbc41\"],[0.9,\"#4d9221\"],[1,\"#276419\"]]},\"xaxis\":{\"gridcolor\":\"white\",\"linecolor\":\"white\",\"ticks\":\"\",\"title\":{\"standoff\":15},\"zerolinecolor\":\"white\",\"automargin\":true,\"zerolinewidth\":2},\"yaxis\":{\"gridcolor\":\"white\",\"linecolor\":\"white\",\"ticks\":\"\",\"title\":{\"standoff\":15},\"zerolinecolor\":\"white\",\"automargin\":true,\"zerolinewidth\":2},\"scene\":{\"xaxis\":{\"backgroundcolor\":\"#E5ECF6\",\"gridcolor\":\"white\",\"linecolor\":\"white\",\"showbackground\":true,\"ticks\":\"\",\"zerolinecolor\":\"white\",\"gridwidth\":2},\"yaxis\":{\"backgroundcolor\":\"#E5ECF6\",\"gridcolor\":\"white\",\"linecolor\":\"white\",\"showbackground\":true,\"ticks\":\"\",\"zerolinecolor\":\"white\",\"gridwidth\":2},\"zaxis\":{\"backgroundcolor\":\"#E5ECF6\",\"gridcolor\":\"white\",\"linecolor\":\"white\",\"showbackground\":true,\"ticks\":\"\",\"zerolinecolor\":\"white\",\"gridwidth\":2}},\"shapedefaults\":{\"line\":{\"color\":\"#2a3f5f\"}},\"annotationdefaults\":{\"arrowcolor\":\"#2a3f5f\",\"arrowhead\":0,\"arrowwidth\":1},\"geo\":{\"bgcolor\":\"white\",\"landcolor\":\"#E5ECF6\",\"subunitcolor\":\"white\",\"showland\":true,\"showlakes\":true,\"lakecolor\":\"white\"},\"title\":{\"x\":0.05},\"mapbox\":{\"style\":\"light\"}}},\"coloraxis\":{\"colorbar\":{\"title\":{\"text\":\"frequency\"}},\"colorscale\":[[0.0,\"rgb(253, 253, 204)\"],[0.09090909090909091,\"rgb(206, 236, 179)\"],[0.18181818181818182,\"rgb(156, 219, 165)\"],[0.2727272727272727,\"rgb(111, 201, 163)\"],[0.36363636363636365,\"rgb(86, 177, 163)\"],[0.45454545454545453,\"rgb(76, 153, 160)\"],[0.5454545454545454,\"rgb(68, 130, 155)\"],[0.6363636363636364,\"rgb(62, 108, 150)\"],[0.7272727272727273,\"rgb(62, 82, 143)\"],[0.8181818181818182,\"rgb(64, 60, 115)\"],[0.9090909090909091,\"rgb(54, 43, 77)\"],[1.0,\"rgb(39, 26, 44)\"]]},\"legend\":{\"tracegroupgap\":0},\"margin\":{\"t\":60},\"width\":900,\"height\":700},                        {\"responsive\": true}                    ).then(function(){\n",
       "                            \n",
       "var gd = document.getElementById('c2768df7-cf1c-453f-84f1-ea4b9954e653');\n",
       "var x = new MutationObserver(function (mutations, observer) {{\n",
       "        var display = window.getComputedStyle(gd).display;\n",
       "        if (!display || display === 'none') {{\n",
       "            console.log([gd, 'removed!']);\n",
       "            Plotly.purge(gd);\n",
       "            observer.disconnect();\n",
       "        }}\n",
       "}});\n",
       "\n",
       "// Listen for the removal of the full notebook cells\n",
       "var notebookContainer = gd.closest('#notebook-container');\n",
       "if (notebookContainer) {{\n",
       "    x.observe(notebookContainer, {childList: true});\n",
       "}}\n",
       "\n",
       "// Listen for the clearing of the current output cell\n",
       "var outputEl = gd.closest('.output');\n",
       "if (outputEl) {{\n",
       "    x.observe(outputEl, {childList: true});\n",
       "}}\n",
       "\n",
       "                        })                };                });            </script>        </div>"
      ]
     },
     "metadata": {},
     "output_type": "display_data"
    }
   ],
   "source": [
    "publisher_freq.sort_values('frequency', ascending=False)\n",
    "fig = px.treemap(publisher_freq, \n",
    "                 path=['group', 'publisher'], \n",
    "                 color_continuous_scale='deep',\n",
    "                 values='frequency',color='frequency')\n",
    "\n",
    "fig.update_layout(width=900, height=700)\n",
    "fig.show()\n",
    "\n",
    "fig.write_html(os.path.join(FIG_DIR, 'treemap_publisher_freq.html'))"
   ]
  },
  {
   "cell_type": "markdown",
   "id": "7bbfea5f-510f-44f0-9f32-8777e72ba82f",
   "metadata": {},
   "source": []
  },
  {
   "cell_type": "markdown",
   "id": "7569d284-68d7-4d2a-8ba2-b74a25911b48",
   "metadata": {
    "tags": []
   },
   "source": [
    "<h5 id=\"heading\"><span style=\"background-color:#fad3b9; color:#3d3710 ; display:fill;border-radius:5px; font-family:Georgia\">📊 Create genre & publisher Heatmap </span></h5>"
   ]
  },
  {
   "cell_type": "code",
   "execution_count": 207,
   "id": "405d236b-9bcd-4c08-aa0c-4f04d5ba7d85",
   "metadata": {
    "execution": {
     "iopub.execute_input": "2023-08-23T12:41:44.681637Z",
     "iopub.status.busy": "2023-08-23T12:41:44.680926Z",
     "iopub.status.idle": "2023-08-23T12:41:44.692386Z",
     "shell.execute_reply": "2023-08-23T12:41:44.691366Z",
     "shell.execute_reply.started": "2023-08-23T12:41:44.681601Z"
    }
   },
   "outputs": [],
   "source": [
    "genre_roles = hot_df['Publisher(s)'].sum().sort_values().index.tolist()\n",
    "sorted_publisher = hot_df.drop('Genre(s)', axis=1).sum().sort_values(ascending=False).droplevel(level=0).index.tolist()"
   ]
  },
  {
   "cell_type": "code",
   "execution_count": 210,
   "id": "cd6d0613-6b64-4610-babf-dd0c4bccd5c0",
   "metadata": {
    "execution": {
     "iopub.execute_input": "2023-08-23T17:10:03.580059Z",
     "iopub.status.busy": "2023-08-23T17:10:03.578451Z",
     "iopub.status.idle": "2023-08-23T17:10:03.934381Z",
     "shell.execute_reply": "2023-08-23T17:10:03.932640Z",
     "shell.execute_reply.started": "2023-08-23T17:10:03.580006Z"
    },
    "scrolled": true
   },
   "outputs": [
    {
     "ename": "KeyError",
     "evalue": "\"None of [Index([' Alibaba Group', 'Epic Games', 'FoxNext ', 'Scopely', 'IGG',\\n       'Jam City (Netmarble)', 'Kabam (Netmarble)', 'Kakao Games', 'Yostar',\\n       'LINE', 'Level Infinite', 'Machine Zone ', 'Miniclip', 'Elex Tech',\\n       'Mojang Studios', 'NHN PlayArt ', 'NaturalMotion (Zynga)', 'NetEase ',\\n       'Netmarble Games ', 'Smilegate ', 'PONOS Corporation',\\n       'Perfect World Games ', 'Plarium', 'Small Giant Games',\\n       'Portkey Games ', 'Riot Games (Tencent)', 'Rovio Entertainment',\\n       'Moonton (ByteDance)', 'Electronic Arts', 'Scopely ', ' Dwango',\\n       ' Scopely', ' Zynga', ' Portkey Games', '37Games', 'Activision ',\\n       ' NCsoft', 'Alibaba Group', 'Alibaba Group ', ' Koei Tecmo',\\n       ' Square Enix', ' Tencent ', 'Topwar Studio', 'Big Huge Games',\\n       'Blizzard (Activision Blizzard)', 'Bubblegum Games', ' CBS Interactive',\\n       'Bushiroad', 'CMGE', 'Colopl', 'Com2Us', 'Bandai Namco ', ' Krafton ',\\n       'Roblox Corporation', 'Niantic ', 'Moon Active',\\n       'GungHo Online Entertainment', 'Garena', 'Tencent Games',\\n       'Aniplex (Sony Music Entertainment Japan)', ' VNG Games', 'Mixi',\\n       ' The Pokémon Company', 'Square Enix', 'FunPlus', ' Garena', 'Playtika',\\n       'Machine Zone', 'Peak Games', 'Cygames', 'Nexon', 'Netmarble',\\n       ' Tencent', 'Lilith Games', 'EA Sports (Electronic Arts)',\\n       'Tencent Games ', 'miHoYo', 'Konami', 'NCsoft',\\n       'Bandai Namco Entertainment', 'Nintendo', 'Playrix', 'NetEase',\\n       'King (Activision Blizzard)', 'Supercell (Tencent)'],\\n      dtype='object')] are in the [index]\"",
     "output_type": "error",
     "traceback": [
      "\u001b[0;31m---------------------------------------------------------------------------\u001b[0m",
      "\u001b[0;31mKeyError\u001b[0m                                  Traceback (most recent call last)",
      "Cell \u001b[0;32mIn[210], line 17\u001b[0m\n\u001b[1;32m     15\u001b[0m genres\u001b[38;5;241m.\u001b[39mcolumns \u001b[38;5;241m=\u001b[39m genre_roles\n\u001b[1;32m     16\u001b[0m genres \u001b[38;5;241m=\u001b[39m genres\u001b[38;5;241m.\u001b[39mreset_index(level\u001b[38;5;241m=\u001b[39m\u001b[38;5;241m0\u001b[39m, drop\u001b[38;5;241m=\u001b[39m\u001b[38;5;28;01mTrue\u001b[39;00m)\n\u001b[0;32m---> 17\u001b[0m genres \u001b[38;5;241m=\u001b[39m \u001b[43mgenres\u001b[49m\u001b[38;5;241;43m.\u001b[39;49m\u001b[43mloc\u001b[49m\u001b[43m[\u001b[49m\u001b[43mgenre_roles\u001b[49m\u001b[43m]\u001b[49m\n\u001b[1;32m     18\u001b[0m genres \u001b[38;5;241m=\u001b[39m genres\u001b[38;5;241m.\u001b[39mT\n",
      "File \u001b[0;32m~/.local/lib/python3.11/site-packages/pandas/core/indexing.py:1103\u001b[0m, in \u001b[0;36m_LocationIndexer.__getitem__\u001b[0;34m(self, key)\u001b[0m\n\u001b[1;32m   1100\u001b[0m axis \u001b[38;5;241m=\u001b[39m \u001b[38;5;28mself\u001b[39m\u001b[38;5;241m.\u001b[39maxis \u001b[38;5;129;01mor\u001b[39;00m \u001b[38;5;241m0\u001b[39m\n\u001b[1;32m   1102\u001b[0m maybe_callable \u001b[38;5;241m=\u001b[39m com\u001b[38;5;241m.\u001b[39mapply_if_callable(key, \u001b[38;5;28mself\u001b[39m\u001b[38;5;241m.\u001b[39mobj)\n\u001b[0;32m-> 1103\u001b[0m \u001b[38;5;28;01mreturn\u001b[39;00m \u001b[38;5;28;43mself\u001b[39;49m\u001b[38;5;241;43m.\u001b[39;49m\u001b[43m_getitem_axis\u001b[49m\u001b[43m(\u001b[49m\u001b[43mmaybe_callable\u001b[49m\u001b[43m,\u001b[49m\u001b[43m \u001b[49m\u001b[43maxis\u001b[49m\u001b[38;5;241;43m=\u001b[39;49m\u001b[43maxis\u001b[49m\u001b[43m)\u001b[49m\n",
      "File \u001b[0;32m~/.local/lib/python3.11/site-packages/pandas/core/indexing.py:1332\u001b[0m, in \u001b[0;36m_LocIndexer._getitem_axis\u001b[0;34m(self, key, axis)\u001b[0m\n\u001b[1;32m   1329\u001b[0m     \u001b[38;5;28;01mif\u001b[39;00m \u001b[38;5;28mhasattr\u001b[39m(key, \u001b[38;5;124m\"\u001b[39m\u001b[38;5;124mndim\u001b[39m\u001b[38;5;124m\"\u001b[39m) \u001b[38;5;129;01mand\u001b[39;00m key\u001b[38;5;241m.\u001b[39mndim \u001b[38;5;241m>\u001b[39m \u001b[38;5;241m1\u001b[39m:\n\u001b[1;32m   1330\u001b[0m         \u001b[38;5;28;01mraise\u001b[39;00m \u001b[38;5;167;01mValueError\u001b[39;00m(\u001b[38;5;124m\"\u001b[39m\u001b[38;5;124mCannot index with multidimensional key\u001b[39m\u001b[38;5;124m\"\u001b[39m)\n\u001b[0;32m-> 1332\u001b[0m     \u001b[38;5;28;01mreturn\u001b[39;00m \u001b[38;5;28;43mself\u001b[39;49m\u001b[38;5;241;43m.\u001b[39;49m\u001b[43m_getitem_iterable\u001b[49m\u001b[43m(\u001b[49m\u001b[43mkey\u001b[49m\u001b[43m,\u001b[49m\u001b[43m \u001b[49m\u001b[43maxis\u001b[49m\u001b[38;5;241;43m=\u001b[39;49m\u001b[43maxis\u001b[49m\u001b[43m)\u001b[49m\n\u001b[1;32m   1334\u001b[0m \u001b[38;5;66;03m# nested tuple slicing\u001b[39;00m\n\u001b[1;32m   1335\u001b[0m \u001b[38;5;28;01mif\u001b[39;00m is_nested_tuple(key, labels):\n",
      "File \u001b[0;32m~/.local/lib/python3.11/site-packages/pandas/core/indexing.py:1272\u001b[0m, in \u001b[0;36m_LocIndexer._getitem_iterable\u001b[0;34m(self, key, axis)\u001b[0m\n\u001b[1;32m   1269\u001b[0m \u001b[38;5;28mself\u001b[39m\u001b[38;5;241m.\u001b[39m_validate_key(key, axis)\n\u001b[1;32m   1271\u001b[0m \u001b[38;5;66;03m# A collection of keys\u001b[39;00m\n\u001b[0;32m-> 1272\u001b[0m keyarr, indexer \u001b[38;5;241m=\u001b[39m \u001b[38;5;28;43mself\u001b[39;49m\u001b[38;5;241;43m.\u001b[39;49m\u001b[43m_get_listlike_indexer\u001b[49m\u001b[43m(\u001b[49m\u001b[43mkey\u001b[49m\u001b[43m,\u001b[49m\u001b[43m \u001b[49m\u001b[43maxis\u001b[49m\u001b[43m)\u001b[49m\n\u001b[1;32m   1273\u001b[0m \u001b[38;5;28;01mreturn\u001b[39;00m \u001b[38;5;28mself\u001b[39m\u001b[38;5;241m.\u001b[39mobj\u001b[38;5;241m.\u001b[39m_reindex_with_indexers(\n\u001b[1;32m   1274\u001b[0m     {axis: [keyarr, indexer]}, copy\u001b[38;5;241m=\u001b[39m\u001b[38;5;28;01mTrue\u001b[39;00m, allow_dups\u001b[38;5;241m=\u001b[39m\u001b[38;5;28;01mTrue\u001b[39;00m\n\u001b[1;32m   1275\u001b[0m )\n",
      "File \u001b[0;32m~/.local/lib/python3.11/site-packages/pandas/core/indexing.py:1462\u001b[0m, in \u001b[0;36m_LocIndexer._get_listlike_indexer\u001b[0;34m(self, key, axis)\u001b[0m\n\u001b[1;32m   1459\u001b[0m ax \u001b[38;5;241m=\u001b[39m \u001b[38;5;28mself\u001b[39m\u001b[38;5;241m.\u001b[39mobj\u001b[38;5;241m.\u001b[39m_get_axis(axis)\n\u001b[1;32m   1460\u001b[0m axis_name \u001b[38;5;241m=\u001b[39m \u001b[38;5;28mself\u001b[39m\u001b[38;5;241m.\u001b[39mobj\u001b[38;5;241m.\u001b[39m_get_axis_name(axis)\n\u001b[0;32m-> 1462\u001b[0m keyarr, indexer \u001b[38;5;241m=\u001b[39m \u001b[43max\u001b[49m\u001b[38;5;241;43m.\u001b[39;49m\u001b[43m_get_indexer_strict\u001b[49m\u001b[43m(\u001b[49m\u001b[43mkey\u001b[49m\u001b[43m,\u001b[49m\u001b[43m \u001b[49m\u001b[43maxis_name\u001b[49m\u001b[43m)\u001b[49m\n\u001b[1;32m   1464\u001b[0m \u001b[38;5;28;01mreturn\u001b[39;00m keyarr, indexer\n",
      "File \u001b[0;32m~/.local/lib/python3.11/site-packages/pandas/core/indexes/base.py:5877\u001b[0m, in \u001b[0;36mIndex._get_indexer_strict\u001b[0;34m(self, key, axis_name)\u001b[0m\n\u001b[1;32m   5874\u001b[0m \u001b[38;5;28;01melse\u001b[39;00m:\n\u001b[1;32m   5875\u001b[0m     keyarr, indexer, new_indexer \u001b[38;5;241m=\u001b[39m \u001b[38;5;28mself\u001b[39m\u001b[38;5;241m.\u001b[39m_reindex_non_unique(keyarr)\n\u001b[0;32m-> 5877\u001b[0m \u001b[38;5;28;43mself\u001b[39;49m\u001b[38;5;241;43m.\u001b[39;49m\u001b[43m_raise_if_missing\u001b[49m\u001b[43m(\u001b[49m\u001b[43mkeyarr\u001b[49m\u001b[43m,\u001b[49m\u001b[43m \u001b[49m\u001b[43mindexer\u001b[49m\u001b[43m,\u001b[49m\u001b[43m \u001b[49m\u001b[43maxis_name\u001b[49m\u001b[43m)\u001b[49m\n\u001b[1;32m   5879\u001b[0m keyarr \u001b[38;5;241m=\u001b[39m \u001b[38;5;28mself\u001b[39m\u001b[38;5;241m.\u001b[39mtake(indexer)\n\u001b[1;32m   5880\u001b[0m \u001b[38;5;28;01mif\u001b[39;00m \u001b[38;5;28misinstance\u001b[39m(key, Index):\n\u001b[1;32m   5881\u001b[0m     \u001b[38;5;66;03m# GH 42790 - Preserve name from an Index\u001b[39;00m\n",
      "File \u001b[0;32m~/.local/lib/python3.11/site-packages/pandas/core/indexes/base.py:5938\u001b[0m, in \u001b[0;36mIndex._raise_if_missing\u001b[0;34m(self, key, indexer, axis_name)\u001b[0m\n\u001b[1;32m   5936\u001b[0m     \u001b[38;5;28;01mif\u001b[39;00m use_interval_msg:\n\u001b[1;32m   5937\u001b[0m         key \u001b[38;5;241m=\u001b[39m \u001b[38;5;28mlist\u001b[39m(key)\n\u001b[0;32m-> 5938\u001b[0m     \u001b[38;5;28;01mraise\u001b[39;00m \u001b[38;5;167;01mKeyError\u001b[39;00m(\u001b[38;5;124mf\u001b[39m\u001b[38;5;124m\"\u001b[39m\u001b[38;5;124mNone of [\u001b[39m\u001b[38;5;132;01m{\u001b[39;00mkey\u001b[38;5;132;01m}\u001b[39;00m\u001b[38;5;124m] are in the [\u001b[39m\u001b[38;5;132;01m{\u001b[39;00maxis_name\u001b[38;5;132;01m}\u001b[39;00m\u001b[38;5;124m]\u001b[39m\u001b[38;5;124m\"\u001b[39m)\n\u001b[1;32m   5940\u001b[0m not_found \u001b[38;5;241m=\u001b[39m \u001b[38;5;28mlist\u001b[39m(ensure_index(key)[missing_mask\u001b[38;5;241m.\u001b[39mnonzero()[\u001b[38;5;241m0\u001b[39m]]\u001b[38;5;241m.\u001b[39munique())\n\u001b[1;32m   5941\u001b[0m \u001b[38;5;28;01mraise\u001b[39;00m \u001b[38;5;167;01mKeyError\u001b[39;00m(\u001b[38;5;124mf\u001b[39m\u001b[38;5;124m\"\u001b[39m\u001b[38;5;132;01m{\u001b[39;00mnot_found\u001b[38;5;132;01m}\u001b[39;00m\u001b[38;5;124m not in index\u001b[39m\u001b[38;5;124m\"\u001b[39m)\n",
      "\u001b[0;31mKeyError\u001b[0m: \"None of [Index([' Alibaba Group', 'Epic Games', 'FoxNext ', 'Scopely', 'IGG',\\n       'Jam City (Netmarble)', 'Kabam (Netmarble)', 'Kakao Games', 'Yostar',\\n       'LINE', 'Level Infinite', 'Machine Zone ', 'Miniclip', 'Elex Tech',\\n       'Mojang Studios', 'NHN PlayArt ', 'NaturalMotion (Zynga)', 'NetEase ',\\n       'Netmarble Games ', 'Smilegate ', 'PONOS Corporation',\\n       'Perfect World Games ', 'Plarium', 'Small Giant Games',\\n       'Portkey Games ', 'Riot Games (Tencent)', 'Rovio Entertainment',\\n       'Moonton (ByteDance)', 'Electronic Arts', 'Scopely ', ' Dwango',\\n       ' Scopely', ' Zynga', ' Portkey Games', '37Games', 'Activision ',\\n       ' NCsoft', 'Alibaba Group', 'Alibaba Group ', ' Koei Tecmo',\\n       ' Square Enix', ' Tencent ', 'Topwar Studio', 'Big Huge Games',\\n       'Blizzard (Activision Blizzard)', 'Bubblegum Games', ' CBS Interactive',\\n       'Bushiroad', 'CMGE', 'Colopl', 'Com2Us', 'Bandai Namco ', ' Krafton ',\\n       'Roblox Corporation', 'Niantic ', 'Moon Active',\\n       'GungHo Online Entertainment', 'Garena', 'Tencent Games',\\n       'Aniplex (Sony Music Entertainment Japan)', ' VNG Games', 'Mixi',\\n       ' The Pokémon Company', 'Square Enix', 'FunPlus', ' Garena', 'Playtika',\\n       'Machine Zone', 'Peak Games', 'Cygames', 'Nexon', 'Netmarble',\\n       ' Tencent', 'Lilith Games', 'EA Sports (Electronic Arts)',\\n       'Tencent Games ', 'miHoYo', 'Konami', 'NCsoft',\\n       'Bandai Namco Entertainment', 'Nintendo', 'Playrix', 'NetEase',\\n       'King (Activision Blizzard)', 'Supercell (Tencent)'],\\n      dtype='object')] are in the [index]\""
     ]
    }
   ],
   "source": [
    "genres= []\n",
    "# For each role, calculate the percentage of each skill\n",
    "for pub in sorted_publisher:\n",
    "    # Filter for the role\n",
    "    pub_mask = (hot_df[('Publisher(s)', pub)] == 1)\n",
    "\n",
    "    #For each skill column, calculate mean of the one-hot-encoded -> percentage\n",
    "    genre_role =  hot_df.loc[pub_mask, 'Publisher(s)'].mean() * 100\n",
    "\n",
    "   # Append to original list\n",
    "    genres.append(genre_role)\n",
    "                             \n",
    "# Concat and format\n",
    "genres = pd.concat(genres, axis=1)\n",
    "genres.columns = genre_roles\n",
    "genres = genres.reset_index(level=0, drop=True)\n",
    "genres = genres.loc[genre_roles]\n",
    "genres = genres.T"
   ]
  },
  {
   "cell_type": "code",
   "execution_count": null,
   "id": "3264b769-9309-46b4-bac9-91cb18336af7",
   "metadata": {},
   "outputs": [],
   "source": [
    "skills"
   ]
  },
  {
   "cell_type": "code",
   "execution_count": null,
   "id": "0a993b37-288b-473f-8d68-8e1168c4d669",
   "metadata": {},
   "outputs": [],
   "source": [
    "fig = go.Figure(data=go.Heatmap(z=skills, x=skills.columns,y=skills.index, colorscale='magma', ygap=1))\n",
    "fig.update_layout(width=2500, height=700)\n",
    "fig.show()\n",
    "fig.write_html(os.path.join(FIG_DIR, 'heatmap.html'))"
   ]
  }
 ],
 "metadata": {
  "kernelspec": {
   "display_name": "Python 3 (ipykernel)",
   "language": "python",
   "name": "python3"
  },
  "language_info": {
   "codemirror_mode": {
    "name": "ipython",
    "version": 3
   },
   "file_extension": ".py",
   "mimetype": "text/x-python",
   "name": "python",
   "nbconvert_exporter": "python",
   "pygments_lexer": "ipython3",
   "version": "3.11.4"
  }
 },
 "nbformat": 4,
 "nbformat_minor": 5
}
